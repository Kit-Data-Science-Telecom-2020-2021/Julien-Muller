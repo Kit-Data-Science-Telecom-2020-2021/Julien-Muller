{
 "cells": [
  {
   "cell_type": "markdown",
   "metadata": {},
   "source": [
    "\n",
    "# Télécom Paris - MDI721 - Session 2"
   ]
  },
  {
   "cell_type": "markdown",
   "metadata": {
    "collapsed": true
   },
   "source": [
    "# Pandas"
   ]
  },
  {
   "cell_type": "code",
   "execution_count": 2,
   "metadata": {
    "scrolled": false
   },
   "outputs": [],
   "source": [
    "# import des modules usuels\n",
    "import numpy as np\n",
    "import pandas as pd\n",
    "\n",
    "# options d'affichage\n",
    "pd.set_option(\"display.min_rows\", 16)"
   ]
  },
  {
   "cell_type": "code",
   "execution_count": null,
   "metadata": {
    "scrolled": false
   },
   "outputs": [],
   "source": [
    "# utilisation de Tab\n",
    "#pd.read_"
   ]
  },
  {
   "cell_type": "code",
   "execution_count": null,
   "metadata": {},
   "outputs": [],
   "source": [
    "# aide en ligne\n",
    "pd.read_csv?"
   ]
  },
  {
   "cell_type": "code",
   "execution_count": 3,
   "metadata": {
    "scrolled": false
   },
   "outputs": [
    {
     "data": {
      "text/html": [
       "<div>\n",
       "<style scoped>\n",
       "    .dataframe tbody tr th:only-of-type {\n",
       "        vertical-align: middle;\n",
       "    }\n",
       "\n",
       "    .dataframe tbody tr th {\n",
       "        vertical-align: top;\n",
       "    }\n",
       "\n",
       "    .dataframe thead th {\n",
       "        text-align: right;\n",
       "    }\n",
       "</style>\n",
       "<table border=\"1\" class=\"dataframe\">\n",
       "  <thead>\n",
       "    <tr style=\"text-align: right;\">\n",
       "      <th></th>\n",
       "      <th>Code INSEE</th>\n",
       "      <th>Code Postal</th>\n",
       "      <th>Commune</th>\n",
       "      <th>Département</th>\n",
       "      <th>Région</th>\n",
       "      <th>Statut</th>\n",
       "      <th>Altitude Moyenne</th>\n",
       "      <th>Superficie</th>\n",
       "      <th>Population</th>\n",
       "      <th>geo_point_2d</th>\n",
       "      <th>geo_shape</th>\n",
       "    </tr>\n",
       "  </thead>\n",
       "  <tbody>\n",
       "    <tr>\n",
       "      <th>0</th>\n",
       "      <td>31080</td>\n",
       "      <td>31350</td>\n",
       "      <td>BOULOGNE-SUR-GESSE</td>\n",
       "      <td>HAUTE-GARONNE</td>\n",
       "      <td>MIDI-PYRENEES</td>\n",
       "      <td>Chef-lieu canton</td>\n",
       "      <td>301.0</td>\n",
       "      <td>2470.0</td>\n",
       "      <td>1.6</td>\n",
       "      <td>43.2904403081, 0.650641474176</td>\n",
       "      <td>{\"type\": \"Polygon\", \"coordinates\": [[[0.671852...</td>\n",
       "    </tr>\n",
       "    <tr>\n",
       "      <th>1</th>\n",
       "      <td>11143</td>\n",
       "      <td>11510</td>\n",
       "      <td>FEUILLA</td>\n",
       "      <td>AUDE</td>\n",
       "      <td>LANGUEDOC-ROUSSILLON</td>\n",
       "      <td>Commune simple</td>\n",
       "      <td>314.0</td>\n",
       "      <td>2426.0</td>\n",
       "      <td>0.1</td>\n",
       "      <td>42.9291375888, 2.90138923544</td>\n",
       "      <td>{\"type\": \"Polygon\", \"coordinates\": [[[2.906996...</td>\n",
       "    </tr>\n",
       "    <tr>\n",
       "      <th>2</th>\n",
       "      <td>43028</td>\n",
       "      <td>43200</td>\n",
       "      <td>BESSAMOREL</td>\n",
       "      <td>HAUTE-LOIRE</td>\n",
       "      <td>AUVERGNE</td>\n",
       "      <td>Commune simple</td>\n",
       "      <td>888.0</td>\n",
       "      <td>743.0</td>\n",
       "      <td>0.4</td>\n",
       "      <td>45.1306448726, 4.07952494849</td>\n",
       "      <td>{\"type\": \"Polygon\", \"coordinates\": [[[4.091674...</td>\n",
       "    </tr>\n",
       "    <tr>\n",
       "      <th>3</th>\n",
       "      <td>78506</td>\n",
       "      <td>78660</td>\n",
       "      <td>PRUNAY-EN-YVELINES</td>\n",
       "      <td>YVELINES</td>\n",
       "      <td>ILE-DE-FRANCE</td>\n",
       "      <td>Commune simple</td>\n",
       "      <td>155.0</td>\n",
       "      <td>2717.0</td>\n",
       "      <td>0.8</td>\n",
       "      <td>48.5267627187, 1.80513972814</td>\n",
       "      <td>{\"type\": \"Polygon\", \"coordinates\": [[[1.829610...</td>\n",
       "    </tr>\n",
       "    <tr>\n",
       "      <th>4</th>\n",
       "      <td>84081</td>\n",
       "      <td>84310</td>\n",
       "      <td>MORIERES-LES-AVIGNON</td>\n",
       "      <td>VAUCLUSE</td>\n",
       "      <td>PROVENCE-ALPES-COTE D'AZUR</td>\n",
       "      <td>Commune simple</td>\n",
       "      <td>49.0</td>\n",
       "      <td>1042.0</td>\n",
       "      <td>7.6</td>\n",
       "      <td>43.9337788848, 4.90875878315</td>\n",
       "      <td>{\"type\": \"Polygon\", \"coordinates\": [[[4.927176...</td>\n",
       "    </tr>\n",
       "    <tr>\n",
       "      <th>5</th>\n",
       "      <td>80462</td>\n",
       "      <td>80150</td>\n",
       "      <td>LAMOTTE-BULEUX</td>\n",
       "      <td>SOMME</td>\n",
       "      <td>PICARDIE</td>\n",
       "      <td>Commune simple</td>\n",
       "      <td>59.0</td>\n",
       "      <td>613.0</td>\n",
       "      <td>0.4</td>\n",
       "      <td>50.1865666179, 1.83564836965</td>\n",
       "      <td>{\"type\": \"Polygon\", \"coordinates\": [[[1.849459...</td>\n",
       "    </tr>\n",
       "    <tr>\n",
       "      <th>6</th>\n",
       "      <td>40200</td>\n",
       "      <td>40410</td>\n",
       "      <td>MOUSTEY</td>\n",
       "      <td>LANDES</td>\n",
       "      <td>AQUITAINE</td>\n",
       "      <td>Commune simple</td>\n",
       "      <td>49.0</td>\n",
       "      <td>6736.0</td>\n",
       "      <td>0.7</td>\n",
       "      <td>44.3882918763, -0.750880080586</td>\n",
       "      <td>{\"type\": \"Polygon\", \"coordinates\": [[[-0.71016...</td>\n",
       "    </tr>\n",
       "    <tr>\n",
       "      <th>7</th>\n",
       "      <td>17394</td>\n",
       "      <td>17700</td>\n",
       "      <td>SAINT-SATURNIN-DU-BOIS</td>\n",
       "      <td>CHARENTE-MARITIME</td>\n",
       "      <td>POITOU-CHARENTES</td>\n",
       "      <td>Commune simple</td>\n",
       "      <td>45.0</td>\n",
       "      <td>2528.0</td>\n",
       "      <td>0.9</td>\n",
       "      <td>46.1401428747, -0.665133364912</td>\n",
       "      <td>{\"type\": \"Polygon\", \"coordinates\": [[[-0.66124...</td>\n",
       "    </tr>\n",
       "    <tr>\n",
       "      <th>...</th>\n",
       "      <td>...</td>\n",
       "      <td>...</td>\n",
       "      <td>...</td>\n",
       "      <td>...</td>\n",
       "      <td>...</td>\n",
       "      <td>...</td>\n",
       "      <td>...</td>\n",
       "      <td>...</td>\n",
       "      <td>...</td>\n",
       "      <td>...</td>\n",
       "      <td>...</td>\n",
       "    </tr>\n",
       "    <tr>\n",
       "      <th>36734</th>\n",
       "      <td>15024</td>\n",
       "      <td>15700</td>\n",
       "      <td>BRAGEAC</td>\n",
       "      <td>CANTAL</td>\n",
       "      <td>AUVERGNE</td>\n",
       "      <td>Commune simple</td>\n",
       "      <td>555.0</td>\n",
       "      <td>1222.0</td>\n",
       "      <td>0.1</td>\n",
       "      <td>45.2038604898, 2.26559675808</td>\n",
       "      <td>{\"type\": \"Polygon\", \"coordinates\": [[[2.302124...</td>\n",
       "    </tr>\n",
       "    <tr>\n",
       "      <th>36735</th>\n",
       "      <td>76008</td>\n",
       "      <td>76370</td>\n",
       "      <td>ANCOURT</td>\n",
       "      <td>SEINE-MARITIME</td>\n",
       "      <td>HAUTE-NORMANDIE</td>\n",
       "      <td>Commune simple</td>\n",
       "      <td>80.0</td>\n",
       "      <td>1252.0</td>\n",
       "      <td>0.7</td>\n",
       "      <td>49.9085547953, 1.17898885458</td>\n",
       "      <td>{\"type\": \"Polygon\", \"coordinates\": [[[1.205457...</td>\n",
       "    </tr>\n",
       "    <tr>\n",
       "      <th>36736</th>\n",
       "      <td>02137</td>\n",
       "      <td>02810</td>\n",
       "      <td>BUSSIARES</td>\n",
       "      <td>AISNE</td>\n",
       "      <td>PICARDIE</td>\n",
       "      <td>Commune simple</td>\n",
       "      <td>141.0</td>\n",
       "      <td>769.0</td>\n",
       "      <td>0.1</td>\n",
       "      <td>49.0765910572, 3.25026191909</td>\n",
       "      <td>{\"type\": \"Polygon\", \"coordinates\": [[[3.258096...</td>\n",
       "    </tr>\n",
       "    <tr>\n",
       "      <th>36737</th>\n",
       "      <td>74066</td>\n",
       "      <td>74270</td>\n",
       "      <td>CHAVANNAZ</td>\n",
       "      <td>HAUTE-SAVOIE</td>\n",
       "      <td>RHONE-ALPES</td>\n",
       "      <td>Commune simple</td>\n",
       "      <td>564.0</td>\n",
       "      <td>321.0</td>\n",
       "      <td>0.2</td>\n",
       "      <td>46.0500384099, 6.01652644319</td>\n",
       "      <td>{\"type\": \"Polygon\", \"coordinates\": [[[6.026228...</td>\n",
       "    </tr>\n",
       "    <tr>\n",
       "      <th>36738</th>\n",
       "      <td>67315</td>\n",
       "      <td>67630</td>\n",
       "      <td>NEEWILLER-PRES-LAUTERBOURG</td>\n",
       "      <td>BAS-RHIN</td>\n",
       "      <td>ALSACE</td>\n",
       "      <td>Commune simple</td>\n",
       "      <td>157.0</td>\n",
       "      <td>725.0</td>\n",
       "      <td>0.7</td>\n",
       "      <td>48.9516989257, 8.11931601006</td>\n",
       "      <td>{\"type\": \"Polygon\", \"coordinates\": [[[8.106826...</td>\n",
       "    </tr>\n",
       "    <tr>\n",
       "      <th>36739</th>\n",
       "      <td>07122</td>\n",
       "      <td>07200</td>\n",
       "      <td>LACHAPELLE-SOUS-AUBENAS</td>\n",
       "      <td>ARDECHE</td>\n",
       "      <td>RHONE-ALPES</td>\n",
       "      <td>Commune simple</td>\n",
       "      <td>257.0</td>\n",
       "      <td>1018.0</td>\n",
       "      <td>1.5</td>\n",
       "      <td>44.5622616562, 4.35906947518</td>\n",
       "      <td>{\"type\": \"Polygon\", \"coordinates\": [[[4.356584...</td>\n",
       "    </tr>\n",
       "    <tr>\n",
       "      <th>36740</th>\n",
       "      <td>01026</td>\n",
       "      <td>01380</td>\n",
       "      <td>BAGE-LE-CHATEL</td>\n",
       "      <td>AIN</td>\n",
       "      <td>RHONE-ALPES</td>\n",
       "      <td>Chef-lieu canton</td>\n",
       "      <td>202.0</td>\n",
       "      <td>86.0</td>\n",
       "      <td>0.8</td>\n",
       "      <td>46.3077069231, 4.92862084189</td>\n",
       "      <td>{\"type\": \"Polygon\", \"coordinates\": [[[4.926593...</td>\n",
       "    </tr>\n",
       "    <tr>\n",
       "      <th>36741</th>\n",
       "      <td>50224</td>\n",
       "      <td>50160</td>\n",
       "      <td>GUILBERVILLE</td>\n",
       "      <td>MANCHE</td>\n",
       "      <td>BASSE-NORMANDIE</td>\n",
       "      <td>Commune simple</td>\n",
       "      <td>165.0</td>\n",
       "      <td>2224.0</td>\n",
       "      <td>1.0</td>\n",
       "      <td>48.9866701737, -0.949588175705</td>\n",
       "      <td>{\"type\": \"Polygon\", \"coordinates\": [[[-0.99753...</td>\n",
       "    </tr>\n",
       "  </tbody>\n",
       "</table>\n",
       "<p>36742 rows × 11 columns</p>\n",
       "</div>"
      ],
      "text/plain": [
       "      Code INSEE Code Postal                     Commune        Département  \\\n",
       "0          31080       31350          BOULOGNE-SUR-GESSE      HAUTE-GARONNE   \n",
       "1          11143       11510                     FEUILLA               AUDE   \n",
       "2          43028       43200                  BESSAMOREL        HAUTE-LOIRE   \n",
       "3          78506       78660          PRUNAY-EN-YVELINES           YVELINES   \n",
       "4          84081       84310        MORIERES-LES-AVIGNON           VAUCLUSE   \n",
       "5          80462       80150              LAMOTTE-BULEUX              SOMME   \n",
       "6          40200       40410                     MOUSTEY             LANDES   \n",
       "7          17394       17700      SAINT-SATURNIN-DU-BOIS  CHARENTE-MARITIME   \n",
       "...          ...         ...                         ...                ...   \n",
       "36734      15024       15700                     BRAGEAC             CANTAL   \n",
       "36735      76008       76370                     ANCOURT     SEINE-MARITIME   \n",
       "36736      02137       02810                   BUSSIARES              AISNE   \n",
       "36737      74066       74270                   CHAVANNAZ       HAUTE-SAVOIE   \n",
       "36738      67315       67630  NEEWILLER-PRES-LAUTERBOURG           BAS-RHIN   \n",
       "36739      07122       07200     LACHAPELLE-SOUS-AUBENAS            ARDECHE   \n",
       "36740      01026       01380              BAGE-LE-CHATEL                AIN   \n",
       "36741      50224       50160                GUILBERVILLE             MANCHE   \n",
       "\n",
       "                           Région            Statut  Altitude Moyenne  \\\n",
       "0                   MIDI-PYRENEES  Chef-lieu canton             301.0   \n",
       "1            LANGUEDOC-ROUSSILLON    Commune simple             314.0   \n",
       "2                        AUVERGNE    Commune simple             888.0   \n",
       "3                   ILE-DE-FRANCE    Commune simple             155.0   \n",
       "4      PROVENCE-ALPES-COTE D'AZUR    Commune simple              49.0   \n",
       "5                        PICARDIE    Commune simple              59.0   \n",
       "6                       AQUITAINE    Commune simple              49.0   \n",
       "7                POITOU-CHARENTES    Commune simple              45.0   \n",
       "...                           ...               ...               ...   \n",
       "36734                    AUVERGNE    Commune simple             555.0   \n",
       "36735             HAUTE-NORMANDIE    Commune simple              80.0   \n",
       "36736                    PICARDIE    Commune simple             141.0   \n",
       "36737                 RHONE-ALPES    Commune simple             564.0   \n",
       "36738                      ALSACE    Commune simple             157.0   \n",
       "36739                 RHONE-ALPES    Commune simple             257.0   \n",
       "36740                 RHONE-ALPES  Chef-lieu canton             202.0   \n",
       "36741             BASSE-NORMANDIE    Commune simple             165.0   \n",
       "\n",
       "       Superficie  Population                    geo_point_2d  \\\n",
       "0          2470.0         1.6   43.2904403081, 0.650641474176   \n",
       "1          2426.0         0.1    42.9291375888, 2.90138923544   \n",
       "2           743.0         0.4    45.1306448726, 4.07952494849   \n",
       "3          2717.0         0.8    48.5267627187, 1.80513972814   \n",
       "4          1042.0         7.6    43.9337788848, 4.90875878315   \n",
       "5           613.0         0.4    50.1865666179, 1.83564836965   \n",
       "6          6736.0         0.7  44.3882918763, -0.750880080586   \n",
       "7          2528.0         0.9  46.1401428747, -0.665133364912   \n",
       "...           ...         ...                             ...   \n",
       "36734      1222.0         0.1    45.2038604898, 2.26559675808   \n",
       "36735      1252.0         0.7    49.9085547953, 1.17898885458   \n",
       "36736       769.0         0.1    49.0765910572, 3.25026191909   \n",
       "36737       321.0         0.2    46.0500384099, 6.01652644319   \n",
       "36738       725.0         0.7    48.9516989257, 8.11931601006   \n",
       "36739      1018.0         1.5    44.5622616562, 4.35906947518   \n",
       "36740        86.0         0.8    46.3077069231, 4.92862084189   \n",
       "36741      2224.0         1.0  48.9866701737, -0.949588175705   \n",
       "\n",
       "                                               geo_shape  \n",
       "0      {\"type\": \"Polygon\", \"coordinates\": [[[0.671852...  \n",
       "1      {\"type\": \"Polygon\", \"coordinates\": [[[2.906996...  \n",
       "2      {\"type\": \"Polygon\", \"coordinates\": [[[4.091674...  \n",
       "3      {\"type\": \"Polygon\", \"coordinates\": [[[1.829610...  \n",
       "4      {\"type\": \"Polygon\", \"coordinates\": [[[4.927176...  \n",
       "5      {\"type\": \"Polygon\", \"coordinates\": [[[1.849459...  \n",
       "6      {\"type\": \"Polygon\", \"coordinates\": [[[-0.71016...  \n",
       "7      {\"type\": \"Polygon\", \"coordinates\": [[[-0.66124...  \n",
       "...                                                  ...  \n",
       "36734  {\"type\": \"Polygon\", \"coordinates\": [[[2.302124...  \n",
       "36735  {\"type\": \"Polygon\", \"coordinates\": [[[1.205457...  \n",
       "36736  {\"type\": \"Polygon\", \"coordinates\": [[[3.258096...  \n",
       "36737  {\"type\": \"Polygon\", \"coordinates\": [[[6.026228...  \n",
       "36738  {\"type\": \"Polygon\", \"coordinates\": [[[8.106826...  \n",
       "36739  {\"type\": \"Polygon\", \"coordinates\": [[[4.356584...  \n",
       "36740  {\"type\": \"Polygon\", \"coordinates\": [[[4.926593...  \n",
       "36741  {\"type\": \"Polygon\", \"coordinates\": [[[-0.99753...  \n",
       "\n",
       "[36742 rows x 11 columns]"
      ]
     },
     "execution_count": 3,
     "metadata": {},
     "output_type": "execute_result"
    }
   ],
   "source": [
    "# chargement des données\n",
    "geo = pd.read_csv(\"correspondance-code-insee-code-postal.csv\",\n",
    "                   sep=';',\n",
    "                   usecols=range(11))\n",
    "geo"
   ]
  },
  {
   "cell_type": "code",
   "execution_count": null,
   "metadata": {},
   "outputs": [],
   "source": [
    "# type ou classe\n",
    "type(geo)"
   ]
  },
  {
   "cell_type": "code",
   "execution_count": 3,
   "metadata": {},
   "outputs": [
    {
     "data": {
      "text/plain": [
       "(36742, 11)"
      ]
     },
     "execution_count": 3,
     "metadata": {},
     "output_type": "execute_result"
    }
   ],
   "source": [
    "# dimensions\n",
    "geo.shape"
   ]
  },
  {
   "cell_type": "markdown",
   "metadata": {},
   "source": [
    "## Series"
   ]
  },
  {
   "cell_type": "code",
   "execution_count": null,
   "metadata": {
    "scrolled": false
   },
   "outputs": [],
   "source": [
    "# on obtient un objet Series à partir d'une colonne du DataFrame\n",
    "s = geo[\"Commune\"]\n",
    "s"
   ]
  },
  {
   "cell_type": "code",
   "execution_count": null,
   "metadata": {
    "scrolled": false
   },
   "outputs": [],
   "source": [
    "# type de l'objet\n",
    "type(s)"
   ]
  },
  {
   "cell_type": "code",
   "execution_count": null,
   "metadata": {
    "scrolled": false
   },
   "outputs": [],
   "source": [
    "# accès à la variable d'instance \"name\" = nom de la colonne\n",
    "s.name"
   ]
  },
  {
   "cell_type": "code",
   "execution_count": null,
   "metadata": {
    "scrolled": false
   },
   "outputs": [],
   "source": [
    "# accès à la variable d'instance \"values\"\n",
    "s.values"
   ]
  },
  {
   "cell_type": "code",
   "execution_count": null,
   "metadata": {
    "scrolled": false
   },
   "outputs": [],
   "source": [
    "# type de la variable \"values\"\n",
    "type(s.values)"
   ]
  },
  {
   "cell_type": "code",
   "execution_count": null,
   "metadata": {},
   "outputs": [],
   "source": [
    "%%time\n",
    "# listes Python\n",
    "len([i ** 2 for i in range(10_000_000)])"
   ]
  },
  {
   "cell_type": "code",
   "execution_count": null,
   "metadata": {},
   "outputs": [],
   "source": [
    "%%time\n",
    "# ndarray numpy\n",
    "len(np.arange(10_000_000, dtype=int) ** 2)"
   ]
  },
  {
   "cell_type": "code",
   "execution_count": null,
   "metadata": {
    "scrolled": false
   },
   "outputs": [],
   "source": [
    "# dimension de l'objet, retourne un tuple avec un seul élément\n",
    "s.shape"
   ]
  },
  {
   "cell_type": "code",
   "execution_count": null,
   "metadata": {
    "scrolled": false
   },
   "outputs": [],
   "source": [
    "# taille de l'objet, ou bien len(s)\n",
    "s.size"
   ]
  },
  {
   "cell_type": "code",
   "execution_count": null,
   "metadata": {
    "scrolled": false
   },
   "outputs": [],
   "source": [
    "# index numérique par défaut\n",
    "s.index"
   ]
  },
  {
   "cell_type": "code",
   "execution_count": null,
   "metadata": {},
   "outputs": [],
   "source": [
    "# dtype de la série\n",
    "s.dtype"
   ]
  },
  {
   "cell_type": "code",
   "execution_count": null,
   "metadata": {
    "scrolled": false
   },
   "outputs": [],
   "source": [
    "# tête\n",
    "s.head()"
   ]
  },
  {
   "cell_type": "code",
   "execution_count": null,
   "metadata": {
    "scrolled": false
   },
   "outputs": [],
   "source": [
    "# queue\n",
    "s.tail(3)  # ou bien s.tail(n=3)"
   ]
  },
  {
   "cell_type": "markdown",
   "metadata": {},
   "source": [
    "Nombre de valeurs uniques d'un objet *Series*"
   ]
  },
  {
   "cell_type": "code",
   "execution_count": null,
   "metadata": {
    "scrolled": false
   },
   "outputs": [],
   "source": [
    "# nombre de valeurs uniques\n",
    "s.nunique()"
   ]
  },
  {
   "cell_type": "code",
   "execution_count": null,
   "metadata": {
    "scrolled": false
   },
   "outputs": [],
   "source": [
    "# nombre de départements\n",
    "geo[\"Département\"].nunique()"
   ]
  },
  {
   "cell_type": "code",
   "execution_count": null,
   "metadata": {
    "scrolled": false
   },
   "outputs": [],
   "source": [
    "# nombre de statuts de commune\n",
    "geo[\"Statut\"].nunique()"
   ]
  },
  {
   "cell_type": "code",
   "execution_count": null,
   "metadata": {
    "scrolled": false
   },
   "outputs": [],
   "source": [
    "# liste des départements\n",
    "geo[\"Département\"].unique()"
   ]
  },
  {
   "cell_type": "markdown",
   "metadata": {},
   "source": [
    "**Exercice 1**\n",
    "- Combien de valeurs différentes comporte la colonne \"Altitude Moyenne\" ?\n",
    "- Pour quelle altitude inférieure à 1000 mètres n'y a-t-il aucune commune ?"
   ]
  },
  {
   "cell_type": "code",
   "execution_count": 4,
   "metadata": {},
   "outputs": [
    {
     "data": {
      "text/plain": [
       "1652"
      ]
     },
     "execution_count": 4,
     "metadata": {},
     "output_type": "execute_result"
    }
   ],
   "source": [
    "geo['Altitude Moyenne'].nunique()"
   ]
  },
  {
   "cell_type": "code",
   "execution_count": 5,
   "metadata": {},
   "outputs": [
    {
     "name": "stdout",
     "output_type": "stream",
     "text": [
      "0\n",
      "1\n",
      "2\n",
      "3\n",
      "4\n",
      "5\n",
      "6\n",
      "7\n",
      "8\n",
      "9\n",
      "10\n",
      "11\n",
      "12\n",
      "13\n",
      "14\n",
      "15\n",
      "16\n",
      "17\n",
      "18\n",
      "19\n",
      "20\n",
      "21\n",
      "22\n",
      "23\n",
      "24\n",
      "25\n",
      "26\n",
      "27\n",
      "28\n",
      "29\n",
      "30\n",
      "31\n",
      "32\n",
      "33\n",
      "34\n",
      "35\n",
      "36\n",
      "37\n",
      "38\n",
      "39\n",
      "40\n",
      "41\n",
      "42\n",
      "43\n",
      "44\n",
      "45\n",
      "46\n",
      "47\n",
      "48\n",
      "49\n",
      "50\n",
      "51\n",
      "52\n",
      "53\n",
      "54\n",
      "55\n",
      "56\n",
      "57\n",
      "58\n",
      "59\n",
      "60\n",
      "61\n",
      "62\n",
      "63\n",
      "64\n",
      "65\n",
      "66\n",
      "67\n",
      "68\n",
      "69\n",
      "70\n",
      "71\n",
      "72\n",
      "73\n",
      "74\n",
      "75\n",
      "76\n",
      "77\n",
      "78\n",
      "79\n",
      "80\n",
      "81\n",
      "82\n",
      "83\n",
      "84\n",
      "85\n",
      "86\n",
      "87\n",
      "88\n",
      "89\n",
      "90\n",
      "91\n",
      "92\n",
      "93\n",
      "94\n",
      "95\n",
      "96\n",
      "97\n",
      "98\n",
      "99\n",
      "100\n",
      "101\n",
      "102\n",
      "103\n",
      "104\n",
      "105\n",
      "106\n",
      "107\n",
      "108\n",
      "109\n",
      "110\n",
      "111\n",
      "112\n",
      "113\n",
      "114\n",
      "115\n",
      "116\n",
      "117\n",
      "118\n",
      "119\n",
      "120\n",
      "121\n",
      "122\n",
      "123\n",
      "124\n",
      "125\n",
      "126\n",
      "127\n",
      "128\n",
      "129\n",
      "130\n",
      "131\n",
      "132\n",
      "133\n",
      "134\n",
      "135\n",
      "136\n",
      "137\n",
      "138\n",
      "139\n",
      "140\n",
      "141\n",
      "142\n",
      "143\n",
      "144\n",
      "145\n",
      "146\n",
      "147\n",
      "148\n",
      "149\n",
      "150\n",
      "151\n",
      "152\n",
      "153\n",
      "154\n",
      "155\n",
      "156\n",
      "157\n",
      "158\n",
      "159\n",
      "160\n",
      "161\n",
      "162\n",
      "163\n",
      "164\n",
      "165\n",
      "166\n",
      "167\n",
      "168\n",
      "169\n",
      "170\n",
      "171\n",
      "172\n",
      "173\n",
      "174\n",
      "175\n",
      "176\n",
      "177\n",
      "178\n",
      "179\n",
      "180\n",
      "181\n",
      "182\n",
      "183\n",
      "184\n",
      "185\n",
      "186\n",
      "187\n",
      "188\n",
      "189\n",
      "190\n",
      "191\n",
      "192\n",
      "193\n",
      "194\n",
      "195\n",
      "196\n",
      "197\n",
      "198\n",
      "199\n",
      "200\n",
      "201\n",
      "202\n",
      "203\n",
      "204\n",
      "205\n",
      "206\n",
      "207\n",
      "208\n",
      "209\n",
      "210\n",
      "211\n",
      "212\n",
      "213\n",
      "214\n",
      "215\n",
      "216\n",
      "217\n",
      "218\n",
      "219\n",
      "220\n",
      "221\n",
      "222\n",
      "223\n",
      "224\n",
      "225\n",
      "226\n",
      "227\n",
      "228\n",
      "229\n",
      "230\n",
      "231\n",
      "232\n",
      "233\n",
      "234\n",
      "235\n",
      "236\n",
      "237\n",
      "238\n",
      "239\n",
      "240\n",
      "241\n",
      "242\n",
      "243\n",
      "244\n",
      "245\n",
      "246\n",
      "247\n",
      "248\n",
      "249\n",
      "250\n",
      "251\n",
      "252\n",
      "253\n",
      "254\n",
      "255\n",
      "256\n",
      "257\n",
      "258\n",
      "259\n",
      "260\n",
      "261\n",
      "262\n",
      "263\n",
      "264\n",
      "265\n",
      "266\n",
      "267\n",
      "268\n",
      "269\n",
      "270\n",
      "271\n",
      "272\n",
      "273\n",
      "274\n",
      "275\n",
      "276\n",
      "277\n",
      "278\n",
      "279\n",
      "280\n",
      "281\n",
      "282\n",
      "283\n",
      "284\n",
      "285\n",
      "286\n",
      "287\n",
      "288\n",
      "289\n",
      "290\n",
      "291\n",
      "292\n",
      "293\n",
      "294\n",
      "295\n",
      "296\n",
      "297\n",
      "298\n",
      "299\n",
      "300\n",
      "301\n",
      "302\n",
      "303\n",
      "304\n",
      "305\n",
      "306\n",
      "307\n",
      "308\n",
      "309\n",
      "310\n",
      "311\n",
      "312\n",
      "313\n",
      "314\n",
      "315\n",
      "316\n",
      "317\n",
      "318\n",
      "319\n",
      "320\n",
      "321\n",
      "322\n",
      "323\n",
      "324\n",
      "325\n",
      "326\n",
      "327\n",
      "328\n",
      "329\n",
      "330\n",
      "331\n",
      "332\n",
      "333\n",
      "334\n",
      "335\n",
      "336\n",
      "337\n",
      "338\n",
      "339\n",
      "340\n",
      "341\n",
      "342\n",
      "343\n",
      "344\n",
      "345\n",
      "346\n",
      "347\n",
      "348\n",
      "349\n",
      "350\n",
      "351\n",
      "352\n",
      "353\n",
      "354\n",
      "355\n",
      "356\n",
      "357\n",
      "358\n",
      "359\n",
      "360\n",
      "361\n",
      "362\n",
      "363\n",
      "364\n",
      "365\n",
      "366\n",
      "367\n",
      "368\n",
      "369\n",
      "370\n",
      "371\n",
      "372\n",
      "373\n",
      "374\n",
      "375\n",
      "376\n",
      "377\n",
      "378\n",
      "379\n",
      "380\n",
      "381\n",
      "382\n",
      "383\n",
      "384\n",
      "385\n",
      "386\n",
      "387\n",
      "388\n",
      "389\n",
      "390\n",
      "391\n",
      "392\n",
      "393\n",
      "394\n",
      "395\n",
      "396\n",
      "397\n",
      "398\n",
      "399\n",
      "400\n",
      "401\n",
      "402\n",
      "403\n",
      "404\n",
      "405\n",
      "406\n",
      "407\n",
      "408\n",
      "409\n",
      "410\n",
      "411\n",
      "412\n",
      "413\n",
      "414\n",
      "415\n",
      "416\n",
      "417\n",
      "418\n",
      "419\n",
      "420\n",
      "421\n",
      "422\n",
      "423\n",
      "424\n",
      "425\n",
      "426\n",
      "427\n",
      "428\n",
      "429\n",
      "430\n",
      "431\n",
      "432\n",
      "433\n",
      "434\n",
      "435\n",
      "436\n",
      "437\n",
      "438\n",
      "439\n",
      "440\n",
      "441\n",
      "442\n",
      "443\n",
      "444\n",
      "445\n",
      "446\n",
      "447\n",
      "448\n",
      "449\n",
      "450\n",
      "451\n",
      "452\n",
      "453\n",
      "454\n",
      "455\n",
      "456\n",
      "457\n",
      "458\n",
      "459\n",
      "460\n",
      "461\n",
      "462\n",
      "463\n",
      "464\n",
      "465\n",
      "466\n",
      "467\n",
      "468\n",
      "469\n",
      "470\n",
      "471\n",
      "472\n",
      "473\n",
      "474\n",
      "475\n",
      "476\n",
      "477\n",
      "478\n",
      "479\n",
      "480\n",
      "481\n",
      "482\n",
      "483\n",
      "484\n",
      "485\n",
      "486\n",
      "487\n",
      "488\n",
      "489\n",
      "490\n",
      "491\n",
      "492\n",
      "493\n",
      "494\n",
      "495\n",
      "496\n",
      "497\n",
      "498\n",
      "499\n",
      "500\n",
      "501\n",
      "502\n",
      "503\n",
      "504\n",
      "505\n",
      "506\n",
      "507\n",
      "508\n",
      "509\n",
      "510\n",
      "511\n",
      "512\n",
      "513\n",
      "514\n",
      "515\n",
      "516\n",
      "517\n",
      "518\n",
      "519\n",
      "520\n",
      "521\n",
      "522\n",
      "523\n",
      "524\n",
      "525\n",
      "526\n",
      "527\n",
      "528\n",
      "529\n",
      "530\n",
      "531\n",
      "532\n",
      "533\n",
      "534\n",
      "535\n",
      "536\n",
      "537\n",
      "538\n",
      "539\n",
      "540\n",
      "541\n",
      "542\n",
      "543\n",
      "544\n",
      "545\n",
      "546\n",
      "547\n",
      "548\n",
      "549\n",
      "550\n",
      "551\n",
      "552\n",
      "553\n",
      "554\n",
      "555\n",
      "556\n",
      "557\n",
      "558\n",
      "559\n",
      "560\n",
      "561\n",
      "562\n",
      "563\n",
      "564\n",
      "565\n",
      "566\n",
      "567\n",
      "568\n",
      "569\n",
      "570\n",
      "571\n",
      "572\n",
      "573\n",
      "574\n",
      "575\n",
      "576\n",
      "577\n",
      "578\n",
      "579\n",
      "580\n",
      "581\n",
      "582\n",
      "583\n",
      "584\n",
      "585\n",
      "586\n",
      "587\n",
      "588\n",
      "589\n",
      "590\n",
      "591\n",
      "592\n",
      "593\n",
      "594\n",
      "595\n",
      "596\n",
      "597\n",
      "598\n",
      "599\n",
      "600\n",
      "601\n",
      "602\n",
      "603\n",
      "604\n",
      "605\n",
      "606\n",
      "607\n",
      "608\n",
      "609\n",
      "610\n",
      "611\n",
      "612\n",
      "613\n",
      "614\n",
      "615\n",
      "616\n",
      "617\n",
      "618\n",
      "619\n",
      "620\n",
      "621\n",
      "622\n",
      "623\n",
      "624\n",
      "625\n",
      "626\n",
      "627\n",
      "628\n",
      "629\n",
      "630\n",
      "631\n",
      "632\n",
      "633\n",
      "634\n",
      "635\n",
      "636\n",
      "637\n",
      "638\n",
      "639\n",
      "640\n",
      "641\n",
      "642\n",
      "643\n",
      "644\n",
      "645\n",
      "646\n",
      "647\n",
      "648\n",
      "649\n",
      "650\n",
      "651\n",
      "652\n",
      "653\n",
      "654\n",
      "655\n",
      "656\n",
      "657\n",
      "658\n",
      "659\n",
      "660\n",
      "661\n",
      "662\n",
      "663\n",
      "664\n",
      "665\n",
      "666\n",
      "667\n",
      "668\n",
      "669\n",
      "670\n",
      "671\n",
      "672\n",
      "673\n",
      "674\n",
      "675\n",
      "676\n",
      "677\n",
      "678\n",
      "679\n",
      "680\n",
      "681\n",
      "682\n",
      "683\n",
      "684\n",
      "685\n",
      "686\n",
      "687\n",
      "688\n",
      "689\n",
      "690\n",
      "691\n",
      "692\n",
      "693\n",
      "694\n",
      "695\n",
      "696\n",
      "697\n",
      "698\n",
      "699\n",
      "700\n",
      "701\n",
      "702\n",
      "703\n",
      "704\n",
      "705\n",
      "706\n",
      "707\n",
      "708\n",
      "709\n",
      "710\n",
      "711\n",
      "712\n",
      "713\n",
      "714\n",
      "715\n",
      "716\n",
      "717\n",
      "718\n",
      "719\n",
      "720\n",
      "721\n",
      "722\n",
      "723\n",
      "724\n",
      "725\n",
      "726\n",
      "727\n",
      "728\n",
      "729\n",
      "730\n",
      "731\n",
      "732\n",
      "733\n",
      "734\n",
      "735\n",
      "736\n",
      "737\n",
      "738\n",
      "739\n",
      "740\n",
      "741\n",
      "742\n",
      "743\n",
      "744\n",
      "745\n",
      "746\n",
      "747\n",
      "748\n",
      "749\n",
      "750\n",
      "751\n",
      "752\n",
      "753\n",
      "754\n",
      "755\n",
      "756\n",
      "757\n",
      "758\n",
      "759\n",
      "760\n",
      "761\n",
      "762\n",
      "763\n",
      "764\n",
      "765\n",
      "766\n",
      "767\n",
      "768\n",
      "769\n",
      "770\n",
      "771\n",
      "772\n",
      "773\n",
      "774\n",
      "775\n",
      "776\n",
      "777\n",
      "778\n",
      "779\n",
      "780\n",
      "781\n",
      "782\n",
      "783\n",
      "784\n",
      "785\n",
      "786\n",
      "787\n",
      "788\n",
      "789\n",
      "790\n",
      "791\n",
      "792\n",
      "793\n",
      "794\n",
      "795\n",
      "796\n",
      "797\n",
      "798\n",
      "799\n",
      "800\n",
      "801\n",
      "802\n",
      "803\n",
      "804\n",
      "805\n",
      "806\n",
      "807\n",
      "808\n",
      "809\n",
      "810\n",
      "811\n",
      "812\n",
      "813\n",
      "814\n",
      "815\n",
      "816\n",
      "817\n",
      "818\n",
      "819\n",
      "820\n",
      "821\n",
      "822\n",
      "823\n",
      "824\n",
      "825\n",
      "826\n",
      "827\n",
      "828\n",
      "829\n",
      "830\n",
      "831\n",
      "832\n",
      "833\n",
      "834\n",
      "835\n",
      "836\n",
      "837\n",
      "838\n",
      "839\n",
      "840\n",
      "841\n",
      "842\n",
      "843\n",
      "844\n",
      "845\n",
      "846\n",
      "847\n",
      "848\n",
      "849\n",
      "850\n",
      "851\n",
      "852\n",
      "853\n",
      "854\n",
      "855\n",
      "856\n",
      "857\n",
      "858\n",
      "859\n",
      "860\n",
      "861\n",
      "862\n",
      "863\n",
      "864\n",
      "865\n",
      "866\n",
      "867\n",
      "868\n",
      "869\n",
      "870\n",
      "871\n",
      "872\n",
      "873\n",
      "874\n",
      "875\n",
      "877\n",
      "878\n",
      "879\n",
      "880\n",
      "881\n",
      "882\n",
      "883\n",
      "884\n",
      "885\n",
      "886\n",
      "887\n",
      "888\n",
      "889\n",
      "890\n",
      "891\n",
      "892\n",
      "893\n",
      "894\n",
      "895\n",
      "896\n",
      "897\n",
      "898\n",
      "899\n",
      "900\n",
      "901\n",
      "902\n",
      "903\n",
      "904\n",
      "905\n",
      "906\n",
      "907\n",
      "908\n",
      "909\n",
      "910\n",
      "911\n",
      "912\n",
      "913\n",
      "914\n",
      "915\n",
      "916\n",
      "917\n",
      "918\n",
      "919\n",
      "920\n",
      "921\n",
      "922\n",
      "923\n",
      "924\n",
      "925\n",
      "926\n",
      "927\n",
      "928\n",
      "929\n",
      "930\n",
      "931\n",
      "932\n",
      "933\n",
      "934\n",
      "935\n",
      "936\n",
      "937\n",
      "938\n",
      "939\n",
      "940\n",
      "941\n",
      "942\n",
      "943\n",
      "944\n",
      "945\n",
      "946\n",
      "947\n",
      "948\n",
      "949\n",
      "950\n",
      "951\n",
      "952\n",
      "953\n",
      "954\n",
      "955\n",
      "956\n",
      "957\n",
      "958\n",
      "959\n",
      "960\n",
      "961\n",
      "962\n",
      "963\n",
      "964\n",
      "965\n",
      "966\n",
      "967\n",
      "968\n",
      "969\n",
      "970\n",
      "971\n",
      "972\n",
      "973\n",
      "974\n",
      "975\n",
      "976\n",
      "977\n",
      "978\n",
      "979\n",
      "980\n",
      "981\n",
      "982\n",
      "983\n",
      "984\n",
      "985\n",
      "986\n",
      "987\n",
      "988\n",
      "989\n",
      "990\n",
      "991\n",
      "992\n",
      "993\n",
      "994\n",
      "995\n",
      "996\n",
      "997\n",
      "998\n",
      "999\n"
     ]
    }
   ],
   "source": [
    "l = geo['Altitude Moyenne'].unique()\n",
    "for i in range(1000):\n",
    "    if i in l:\n",
    "        print(i)"
   ]
  },
  {
   "cell_type": "code",
   "execution_count": null,
   "metadata": {
    "scrolled": false
   },
   "outputs": [],
   "source": [
    "# nombre de communes par département\n",
    "geo[\"Département\"].value_counts()"
   ]
  },
  {
   "cell_type": "code",
   "execution_count": 5,
   "metadata": {
    "scrolled": false
   },
   "outputs": [
    {
     "data": {
      "text/plain": [
       "PAS-DE-CALAIS        895\n",
       "AISNE                816\n",
       "SOMME                782\n",
       "SEINE-MARITIME       744\n",
       "MOSELLE              730\n",
       "CALVADOS             706\n",
       "COTE-D'OR            706\n",
       "OISE                 693\n",
       "                    ... \n",
       "SEINE-SAINT-DENIS     40\n",
       "HAUTS-DE-SEINE        36\n",
       "MARTINIQUE            34\n",
       "GUADELOUPE            32\n",
       "REUNION               24\n",
       "GUYANE                22\n",
       "PARIS                 20\n",
       "MAYOTTE               17\n",
       "Name: Département, Length: 101, dtype: int64"
      ]
     },
     "execution_count": 5,
     "metadata": {},
     "output_type": "execute_result"
    }
   ],
   "source": [
    "s2 = geo[\"Département\"].value_counts()\n",
    "s2"
   ]
  },
  {
   "cell_type": "code",
   "execution_count": null,
   "metadata": {
    "scrolled": false
   },
   "outputs": [],
   "source": [
    "# l'index est composé des valeurs uniques de l'objet Series initial\n",
    "s2.index"
   ]
  },
  {
   "cell_type": "code",
   "execution_count": null,
   "metadata": {
    "scrolled": false
   },
   "outputs": [],
   "source": [
    "# les valeurs sont les nombres d'occurences des valeurs uniques de l'objet Series initial\n",
    "s2.values"
   ]
  },
  {
   "cell_type": "markdown",
   "metadata": {},
   "source": [
    "**Exercice 2**\n",
    "\n",
    "- Donner le décompte des différents statuts des communes.\n",
    "- Quels sont les 10 noms de communes les plus fréquents ?\n",
    "- En français, le nom de famille le plus fréquent est *Martin*, mais quel est le nom de commune le plus fréquent ?"
   ]
  },
  {
   "cell_type": "code",
   "execution_count": 6,
   "metadata": {},
   "outputs": [
    {
     "data": {
      "text/plain": [
       "Commune simple          33421\n",
       "Chef-lieu canton         2980\n",
       "Sous-préfecture           240\n",
       "Préfecture                 74\n",
       "Préfecture de région       26\n",
       "Capitale d'état             1\n",
       "Name: Statut, dtype: int64"
      ]
     },
     "execution_count": 6,
     "metadata": {},
     "output_type": "execute_result"
    }
   ],
   "source": [
    "# Décompte des différents statuts des communes \n",
    "geo['Statut'].value_counts()"
   ]
  },
  {
   "cell_type": "code",
   "execution_count": 7,
   "metadata": {
    "scrolled": true
   },
   "outputs": [
    {
     "data": {
      "text/plain": [
       "SAINTE-COLOMBE    14\n",
       "SAINT-SAUVEUR     12\n",
       "SAINTE-MARIE      11\n",
       "BEAULIEU          11\n",
       "SAINT-LOUP        10\n",
       "SAINT-REMY        10\n",
       "LE PIN            10\n",
       "SAINT-SULPICE     10\n",
       "SAINT-AUBIN       10\n",
       "BEAUMONT           9\n",
       "Name: Commune, dtype: int64"
      ]
     },
     "execution_count": 7,
     "metadata": {},
     "output_type": "execute_result"
    }
   ],
   "source": [
    "# Quels sont les 10 noms de communes les plus fréquents ?\n",
    "geo['Commune'].value_counts().head(10)"
   ]
  },
  {
   "cell_type": "code",
   "execution_count": null,
   "metadata": {},
   "outputs": [],
   "source": [
    "# En français, le nom de famille le plus fréquent est Martin, mais quel est le nom de commune le plus fréquent ?\n",
    "geo['Commune'].value_counts().index(0)"
   ]
  },
  {
   "cell_type": "code",
   "execution_count": 8,
   "metadata": {},
   "outputs": [
    {
     "data": {
      "text/plain": [
       "64500.00000000001"
      ]
     },
     "execution_count": 8,
     "metadata": {},
     "output_type": "execute_result"
    }
   ],
   "source": [
    "# population\n",
    "geo[\"Population\"].sum()"
   ]
  },
  {
   "cell_type": "code",
   "execution_count": null,
   "metadata": {},
   "outputs": [],
   "source": [
    "# min\n",
    "geo['Altitude Moyenne'].min()"
   ]
  },
  {
   "cell_type": "code",
   "execution_count": null,
   "metadata": {},
   "outputs": [],
   "source": [
    "# index du min\n",
    "geo['Altitude Moyenne'].idxmin()"
   ]
  },
  {
   "cell_type": "code",
   "execution_count": null,
   "metadata": {},
   "outputs": [],
   "source": [
    "# max\n",
    "geo['Altitude Moyenne'].max()"
   ]
  },
  {
   "cell_type": "code",
   "execution_count": null,
   "metadata": {},
   "outputs": [],
   "source": [
    "# index du max\n",
    "geo['Altitude Moyenne'].idxmax()"
   ]
  },
  {
   "cell_type": "code",
   "execution_count": null,
   "metadata": {},
   "outputs": [],
   "source": [
    "# opération avec un scalaire\n",
    "geo[\"Population\"] * 1000"
   ]
  },
  {
   "cell_type": "code",
   "execution_count": 9,
   "metadata": {},
   "outputs": [
    {
     "data": {
      "text/plain": [
       "0        False\n",
       "1        False\n",
       "2        False\n",
       "3        False\n",
       "4         True\n",
       "5        False\n",
       "6         True\n",
       "7        False\n",
       "         ...  \n",
       "36734    False\n",
       "36735    False\n",
       "36736    False\n",
       "36737    False\n",
       "36738    False\n",
       "36739    False\n",
       "36740    False\n",
       "36741    False\n",
       "Name: Altitude Moyenne, Length: 36742, dtype: bool"
      ]
     },
     "execution_count": 9,
     "metadata": {},
     "output_type": "execute_result"
    }
   ],
   "source": [
    "# comparaison\n",
    "geo['Altitude Moyenne'] == 49"
   ]
  },
  {
   "cell_type": "code",
   "execution_count": null,
   "metadata": {
    "scrolled": false
   },
   "outputs": [],
   "source": [
    "# exemple : appartenance à une liste de valeurs\n",
    "geo[\"Altitude Moyenne\"].isin([49.0, 59.0])"
   ]
  },
  {
   "cell_type": "code",
   "execution_count": 12,
   "metadata": {},
   "outputs": [
    {
     "data": {
      "text/plain": [
       "0            1.6\n",
       "1            1.7\n",
       "2            2.1\n",
       "3            2.9\n",
       "4           10.5\n",
       "5           10.9\n",
       "6           11.6\n",
       "7           12.5\n",
       "          ...   \n",
       "36734    64495.0\n",
       "36735    64495.7\n",
       "36736    64495.8\n",
       "36737    64496.0\n",
       "36738    64496.7\n",
       "36739    64498.2\n",
       "36740    64499.0\n",
       "36741    64500.0\n",
       "Name: Population, Length: 36742, dtype: float64"
      ]
     },
     "execution_count": 12,
     "metadata": {},
     "output_type": "execute_result"
    }
   ],
   "source": [
    "# somme cumulée population\n",
    "geo[\"Population\"].cumsum()"
   ]
  },
  {
   "cell_type": "code",
   "execution_count": 11,
   "metadata": {},
   "outputs": [
    {
     "data": {
      "text/plain": [
       "0           2470\n",
       "1        5992220\n",
       "2      157252164\n",
       "3     2052367284\n",
       "4     -327003480\n",
       "5     1410329672\n",
       "6     -486988160\n",
       "7     1549545472\n",
       "8     1691344896\n",
       "9    -1962000384\n",
       "10    1508655104\n",
       "11   -2069381120\n",
       "12    -481804288\n",
       "13    -699777024\n",
       "14   -2111242240\n",
       "15   -1188888576\n",
       "16     776863744\n",
       "17   -1357381632\n",
       "18   -1705508864\n",
       "19    2099773440\n",
       "Name: Superficie, dtype: int32"
      ]
     },
     "execution_count": 11,
     "metadata": {},
     "output_type": "execute_result"
    }
   ],
   "source": [
    "# produit cumulé population\n",
    "geo[\"Superficie\"].astype(int).cumprod().head(20)"
   ]
  },
  {
   "cell_type": "code",
   "execution_count": 13,
   "metadata": {
    "scrolled": false
   },
   "outputs": [
    {
     "data": {
      "text/plain": [
       "0        0.000648\n",
       "1        0.000041\n",
       "2        0.000538\n",
       "3        0.000294\n",
       "4        0.007294\n",
       "5        0.000653\n",
       "6        0.000104\n",
       "7        0.000356\n",
       "           ...   \n",
       "36734    0.000082\n",
       "36735    0.000559\n",
       "36736    0.000130\n",
       "36737    0.000623\n",
       "36738    0.000966\n",
       "36739    0.001473\n",
       "36740    0.009302\n",
       "36741    0.000450\n",
       "Length: 36742, dtype: float64"
      ]
     },
     "execution_count": 13,
     "metadata": {},
     "output_type": "execute_result"
    }
   ],
   "source": [
    "# exemple : calcul de la densité en divisant la population par la superficie\n",
    "geo[\"Population\"] / geo[\"Superficie\"]"
   ]
  },
  {
   "cell_type": "code",
   "execution_count": null,
   "metadata": {},
   "outputs": [],
   "source": [
    "# startswith\n",
    "geo[\"Commune\"].str.startswith(\"B\")"
   ]
  },
  {
   "cell_type": "code",
   "execution_count": null,
   "metadata": {},
   "outputs": [],
   "source": [
    "geo[\"Commune\"].str.capitalize()"
   ]
  },
  {
   "cell_type": "code",
   "execution_count": null,
   "metadata": {},
   "outputs": [],
   "source": [
    "geo[\"Commune\"].str.title()"
   ]
  },
  {
   "cell_type": "markdown",
   "metadata": {},
   "source": [
    "**Exercice 3**\n",
    "\n",
    "- Calculez le minimum et le maximum des longueurs des noms des communes.\n",
    "- Donnez le décompte des longueurs de noms des communes.\n",
    "- Quelle est la commune dont le nom est le plus long ?"
   ]
  },
  {
   "cell_type": "code",
   "execution_count": null,
   "metadata": {
    "scrolled": false
   },
   "outputs": [],
   "source": [
    "s = geo[\"Superficie\"]\n",
    "s"
   ]
  },
  {
   "cell_type": "code",
   "execution_count": null,
   "metadata": {
    "scrolled": false
   },
   "outputs": [],
   "source": [
    "# côtés des carrés de surface équivalente\n",
    "s.apply(np.sqrt)"
   ]
  },
  {
   "cell_type": "code",
   "execution_count": null,
   "metadata": {},
   "outputs": [],
   "source": [
    "# rayons des cercles de surface équivalente\n",
    "# fonction standard\n",
    "def rayon(x):\n",
    "    rayon = np.sqrt(x / np.pi)\n",
    "    return rayon\n",
    "\n",
    "rayon(10)"
   ]
  },
  {
   "cell_type": "code",
   "execution_count": null,
   "metadata": {},
   "outputs": [],
   "source": [
    "# rayons des cercles de surface équivalente\n",
    "# fonction standard\n",
    "s.apply(rayon)"
   ]
  },
  {
   "cell_type": "code",
   "execution_count": null,
   "metadata": {
    "scrolled": false
   },
   "outputs": [],
   "source": [
    "# rayons des cercles de surface équivalente\n",
    "# lambda\n",
    "s.apply(lambda x: np.sqrt(x / np.pi))"
   ]
  },
  {
   "cell_type": "markdown",
   "metadata": {},
   "source": [
    "## DataFrame"
   ]
  },
  {
   "cell_type": "code",
   "execution_count": null,
   "metadata": {
    "scrolled": false
   },
   "outputs": [],
   "source": [
    "# type de l'objet\n",
    "type(geo)"
   ]
  },
  {
   "cell_type": "code",
   "execution_count": null,
   "metadata": {
    "scrolled": false
   },
   "outputs": [],
   "source": [
    "# dimensions\n",
    "geo.shape"
   ]
  },
  {
   "cell_type": "code",
   "execution_count": null,
   "metadata": {
    "scrolled": false
   },
   "outputs": [],
   "source": [
    "# nombre de lignes\n",
    "len(geo)"
   ]
  },
  {
   "cell_type": "code",
   "execution_count": null,
   "metadata": {
    "scrolled": false
   },
   "outputs": [],
   "source": [
    "# nombre total d'éléments\n",
    "geo.size"
   ]
  },
  {
   "cell_type": "code",
   "execution_count": null,
   "metadata": {
    "scrolled": false
   },
   "outputs": [],
   "source": [
    "# index\n",
    "geo.index"
   ]
  },
  {
   "cell_type": "code",
   "execution_count": null,
   "metadata": {
    "scrolled": false
   },
   "outputs": [],
   "source": [
    "# liste des colonnes\n",
    "geo.columns"
   ]
  },
  {
   "cell_type": "code",
   "execution_count": null,
   "metadata": {
    "scrolled": false
   },
   "outputs": [],
   "source": [
    "# types des colonnes\n",
    "geo.dtypes"
   ]
  },
  {
   "cell_type": "code",
   "execution_count": null,
   "metadata": {
    "scrolled": false
   },
   "outputs": [],
   "source": [
    "# appel de la méthode info()\n",
    "geo.info()"
   ]
  },
  {
   "cell_type": "code",
   "execution_count": null,
   "metadata": {
    "scrolled": false
   },
   "outputs": [],
   "source": [
    "# tête\n",
    "geo.head()"
   ]
  },
  {
   "cell_type": "code",
   "execution_count": 14,
   "metadata": {
    "scrolled": false
   },
   "outputs": [
    {
     "data": {
      "text/html": [
       "<div>\n",
       "<style scoped>\n",
       "    .dataframe tbody tr th:only-of-type {\n",
       "        vertical-align: middle;\n",
       "    }\n",
       "\n",
       "    .dataframe tbody tr th {\n",
       "        vertical-align: top;\n",
       "    }\n",
       "\n",
       "    .dataframe thead th {\n",
       "        text-align: right;\n",
       "    }\n",
       "</style>\n",
       "<table border=\"1\" class=\"dataframe\">\n",
       "  <thead>\n",
       "    <tr style=\"text-align: right;\">\n",
       "      <th></th>\n",
       "      <th>Code INSEE</th>\n",
       "      <th>Code Postal</th>\n",
       "      <th>Commune</th>\n",
       "      <th>Département</th>\n",
       "      <th>Région</th>\n",
       "      <th>Statut</th>\n",
       "      <th>Altitude Moyenne</th>\n",
       "      <th>Superficie</th>\n",
       "      <th>Population</th>\n",
       "      <th>geo_point_2d</th>\n",
       "      <th>geo_shape</th>\n",
       "    </tr>\n",
       "  </thead>\n",
       "  <tbody>\n",
       "    <tr>\n",
       "      <th>36737</th>\n",
       "      <td>74066</td>\n",
       "      <td>74270</td>\n",
       "      <td>CHAVANNAZ</td>\n",
       "      <td>HAUTE-SAVOIE</td>\n",
       "      <td>RHONE-ALPES</td>\n",
       "      <td>Commune simple</td>\n",
       "      <td>564.0</td>\n",
       "      <td>321.0</td>\n",
       "      <td>0.2</td>\n",
       "      <td>46.0500384099, 6.01652644319</td>\n",
       "      <td>{\"type\": \"Polygon\", \"coordinates\": [[[6.026228...</td>\n",
       "    </tr>\n",
       "    <tr>\n",
       "      <th>36738</th>\n",
       "      <td>67315</td>\n",
       "      <td>67630</td>\n",
       "      <td>NEEWILLER-PRES-LAUTERBOURG</td>\n",
       "      <td>BAS-RHIN</td>\n",
       "      <td>ALSACE</td>\n",
       "      <td>Commune simple</td>\n",
       "      <td>157.0</td>\n",
       "      <td>725.0</td>\n",
       "      <td>0.7</td>\n",
       "      <td>48.9516989257, 8.11931601006</td>\n",
       "      <td>{\"type\": \"Polygon\", \"coordinates\": [[[8.106826...</td>\n",
       "    </tr>\n",
       "    <tr>\n",
       "      <th>36739</th>\n",
       "      <td>07122</td>\n",
       "      <td>07200</td>\n",
       "      <td>LACHAPELLE-SOUS-AUBENAS</td>\n",
       "      <td>ARDECHE</td>\n",
       "      <td>RHONE-ALPES</td>\n",
       "      <td>Commune simple</td>\n",
       "      <td>257.0</td>\n",
       "      <td>1018.0</td>\n",
       "      <td>1.5</td>\n",
       "      <td>44.5622616562, 4.35906947518</td>\n",
       "      <td>{\"type\": \"Polygon\", \"coordinates\": [[[4.356584...</td>\n",
       "    </tr>\n",
       "    <tr>\n",
       "      <th>36740</th>\n",
       "      <td>01026</td>\n",
       "      <td>01380</td>\n",
       "      <td>BAGE-LE-CHATEL</td>\n",
       "      <td>AIN</td>\n",
       "      <td>RHONE-ALPES</td>\n",
       "      <td>Chef-lieu canton</td>\n",
       "      <td>202.0</td>\n",
       "      <td>86.0</td>\n",
       "      <td>0.8</td>\n",
       "      <td>46.3077069231, 4.92862084189</td>\n",
       "      <td>{\"type\": \"Polygon\", \"coordinates\": [[[4.926593...</td>\n",
       "    </tr>\n",
       "    <tr>\n",
       "      <th>36741</th>\n",
       "      <td>50224</td>\n",
       "      <td>50160</td>\n",
       "      <td>GUILBERVILLE</td>\n",
       "      <td>MANCHE</td>\n",
       "      <td>BASSE-NORMANDIE</td>\n",
       "      <td>Commune simple</td>\n",
       "      <td>165.0</td>\n",
       "      <td>2224.0</td>\n",
       "      <td>1.0</td>\n",
       "      <td>48.9866701737, -0.949588175705</td>\n",
       "      <td>{\"type\": \"Polygon\", \"coordinates\": [[[-0.99753...</td>\n",
       "    </tr>\n",
       "  </tbody>\n",
       "</table>\n",
       "</div>"
      ],
      "text/plain": [
       "      Code INSEE Code Postal                     Commune   Département  \\\n",
       "36737      74066       74270                   CHAVANNAZ  HAUTE-SAVOIE   \n",
       "36738      67315       67630  NEEWILLER-PRES-LAUTERBOURG      BAS-RHIN   \n",
       "36739      07122       07200     LACHAPELLE-SOUS-AUBENAS       ARDECHE   \n",
       "36740      01026       01380              BAGE-LE-CHATEL           AIN   \n",
       "36741      50224       50160                GUILBERVILLE        MANCHE   \n",
       "\n",
       "                Région            Statut  Altitude Moyenne  Superficie  \\\n",
       "36737      RHONE-ALPES    Commune simple             564.0       321.0   \n",
       "36738           ALSACE    Commune simple             157.0       725.0   \n",
       "36739      RHONE-ALPES    Commune simple             257.0      1018.0   \n",
       "36740      RHONE-ALPES  Chef-lieu canton             202.0        86.0   \n",
       "36741  BASSE-NORMANDIE    Commune simple             165.0      2224.0   \n",
       "\n",
       "       Population                    geo_point_2d  \\\n",
       "36737         0.2    46.0500384099, 6.01652644319   \n",
       "36738         0.7    48.9516989257, 8.11931601006   \n",
       "36739         1.5    44.5622616562, 4.35906947518   \n",
       "36740         0.8    46.3077069231, 4.92862084189   \n",
       "36741         1.0  48.9866701737, -0.949588175705   \n",
       "\n",
       "                                               geo_shape  \n",
       "36737  {\"type\": \"Polygon\", \"coordinates\": [[[6.026228...  \n",
       "36738  {\"type\": \"Polygon\", \"coordinates\": [[[8.106826...  \n",
       "36739  {\"type\": \"Polygon\", \"coordinates\": [[[4.356584...  \n",
       "36740  {\"type\": \"Polygon\", \"coordinates\": [[[4.926593...  \n",
       "36741  {\"type\": \"Polygon\", \"coordinates\": [[[-0.99753...  "
      ]
     },
     "execution_count": 14,
     "metadata": {},
     "output_type": "execute_result"
    }
   ],
   "source": [
    "# queue\n",
    "geo.tail()"
   ]
  },
  {
   "cell_type": "code",
   "execution_count": null,
   "metadata": {
    "scrolled": false
   },
   "outputs": [],
   "source": [
    "# transposition\n",
    "geo.transpose() # ou geo.T"
   ]
  },
  {
   "cell_type": "code",
   "execution_count": 15,
   "metadata": {
    "scrolled": false
   },
   "outputs": [
    {
     "data": {
      "text/html": [
       "<div>\n",
       "<style scoped>\n",
       "    .dataframe tbody tr th:only-of-type {\n",
       "        vertical-align: middle;\n",
       "    }\n",
       "\n",
       "    .dataframe tbody tr th {\n",
       "        vertical-align: top;\n",
       "    }\n",
       "\n",
       "    .dataframe thead th {\n",
       "        text-align: right;\n",
       "    }\n",
       "</style>\n",
       "<table border=\"1\" class=\"dataframe\">\n",
       "  <thead>\n",
       "    <tr style=\"text-align: right;\">\n",
       "      <th></th>\n",
       "      <th>0</th>\n",
       "    </tr>\n",
       "  </thead>\n",
       "  <tbody>\n",
       "    <tr>\n",
       "      <th>Code INSEE</th>\n",
       "      <td>31080</td>\n",
       "    </tr>\n",
       "    <tr>\n",
       "      <th>Code Postal</th>\n",
       "      <td>31350</td>\n",
       "    </tr>\n",
       "    <tr>\n",
       "      <th>Commune</th>\n",
       "      <td>BOULOGNE-SUR-GESSE</td>\n",
       "    </tr>\n",
       "    <tr>\n",
       "      <th>Département</th>\n",
       "      <td>HAUTE-GARONNE</td>\n",
       "    </tr>\n",
       "    <tr>\n",
       "      <th>Région</th>\n",
       "      <td>MIDI-PYRENEES</td>\n",
       "    </tr>\n",
       "    <tr>\n",
       "      <th>Statut</th>\n",
       "      <td>Chef-lieu canton</td>\n",
       "    </tr>\n",
       "    <tr>\n",
       "      <th>Altitude Moyenne</th>\n",
       "      <td>301</td>\n",
       "    </tr>\n",
       "    <tr>\n",
       "      <th>Superficie</th>\n",
       "      <td>2470</td>\n",
       "    </tr>\n",
       "    <tr>\n",
       "      <th>Population</th>\n",
       "      <td>1.6</td>\n",
       "    </tr>\n",
       "    <tr>\n",
       "      <th>geo_point_2d</th>\n",
       "      <td>43.2904403081, 0.650641474176</td>\n",
       "    </tr>\n",
       "    <tr>\n",
       "      <th>geo_shape</th>\n",
       "      <td>{\"type\": \"Polygon\", \"coordinates\": [[[0.671852...</td>\n",
       "    </tr>\n",
       "  </tbody>\n",
       "</table>\n",
       "</div>"
      ],
      "text/plain": [
       "                                                                  0\n",
       "Code INSEE                                                    31080\n",
       "Code Postal                                                   31350\n",
       "Commune                                          BOULOGNE-SUR-GESSE\n",
       "Département                                           HAUTE-GARONNE\n",
       "Région                                                MIDI-PYRENEES\n",
       "Statut                                             Chef-lieu canton\n",
       "Altitude Moyenne                                                301\n",
       "Superficie                                                     2470\n",
       "Population                                                      1.6\n",
       "geo_point_2d                          43.2904403081, 0.650641474176\n",
       "geo_shape         {\"type\": \"Polygon\", \"coordinates\": [[[0.671852..."
      ]
     },
     "execution_count": 15,
     "metadata": {},
     "output_type": "execute_result"
    }
   ],
   "source": [
    "# accès à la première ligne\n",
    "geo.head(1).T"
   ]
  },
  {
   "cell_type": "code",
   "execution_count": 16,
   "metadata": {
    "scrolled": false
   },
   "outputs": [
    {
     "data": {
      "text/html": [
       "<div>\n",
       "<style scoped>\n",
       "    .dataframe tbody tr th:only-of-type {\n",
       "        vertical-align: middle;\n",
       "    }\n",
       "\n",
       "    .dataframe tbody tr th {\n",
       "        vertical-align: top;\n",
       "    }\n",
       "\n",
       "    .dataframe thead th {\n",
       "        text-align: right;\n",
       "    }\n",
       "</style>\n",
       "<table border=\"1\" class=\"dataframe\">\n",
       "  <thead>\n",
       "    <tr style=\"text-align: right;\">\n",
       "      <th></th>\n",
       "      <th>Code Postal</th>\n",
       "      <th>Commune</th>\n",
       "      <th>Département</th>\n",
       "      <th>Région</th>\n",
       "      <th>Statut</th>\n",
       "      <th>Altitude Moyenne</th>\n",
       "      <th>Superficie</th>\n",
       "      <th>Population</th>\n",
       "      <th>geo_point_2d</th>\n",
       "      <th>geo_shape</th>\n",
       "    </tr>\n",
       "    <tr>\n",
       "      <th>Code INSEE</th>\n",
       "      <th></th>\n",
       "      <th></th>\n",
       "      <th></th>\n",
       "      <th></th>\n",
       "      <th></th>\n",
       "      <th></th>\n",
       "      <th></th>\n",
       "      <th></th>\n",
       "      <th></th>\n",
       "      <th></th>\n",
       "    </tr>\n",
       "  </thead>\n",
       "  <tbody>\n",
       "    <tr>\n",
       "      <th>31080</th>\n",
       "      <td>31350</td>\n",
       "      <td>BOULOGNE-SUR-GESSE</td>\n",
       "      <td>HAUTE-GARONNE</td>\n",
       "      <td>MIDI-PYRENEES</td>\n",
       "      <td>Chef-lieu canton</td>\n",
       "      <td>301.0</td>\n",
       "      <td>2470.0</td>\n",
       "      <td>1.6</td>\n",
       "      <td>43.2904403081, 0.650641474176</td>\n",
       "      <td>{\"type\": \"Polygon\", \"coordinates\": [[[0.671852...</td>\n",
       "    </tr>\n",
       "    <tr>\n",
       "      <th>11143</th>\n",
       "      <td>11510</td>\n",
       "      <td>FEUILLA</td>\n",
       "      <td>AUDE</td>\n",
       "      <td>LANGUEDOC-ROUSSILLON</td>\n",
       "      <td>Commune simple</td>\n",
       "      <td>314.0</td>\n",
       "      <td>2426.0</td>\n",
       "      <td>0.1</td>\n",
       "      <td>42.9291375888, 2.90138923544</td>\n",
       "      <td>{\"type\": \"Polygon\", \"coordinates\": [[[2.906996...</td>\n",
       "    </tr>\n",
       "    <tr>\n",
       "      <th>43028</th>\n",
       "      <td>43200</td>\n",
       "      <td>BESSAMOREL</td>\n",
       "      <td>HAUTE-LOIRE</td>\n",
       "      <td>AUVERGNE</td>\n",
       "      <td>Commune simple</td>\n",
       "      <td>888.0</td>\n",
       "      <td>743.0</td>\n",
       "      <td>0.4</td>\n",
       "      <td>45.1306448726, 4.07952494849</td>\n",
       "      <td>{\"type\": \"Polygon\", \"coordinates\": [[[4.091674...</td>\n",
       "    </tr>\n",
       "    <tr>\n",
       "      <th>78506</th>\n",
       "      <td>78660</td>\n",
       "      <td>PRUNAY-EN-YVELINES</td>\n",
       "      <td>YVELINES</td>\n",
       "      <td>ILE-DE-FRANCE</td>\n",
       "      <td>Commune simple</td>\n",
       "      <td>155.0</td>\n",
       "      <td>2717.0</td>\n",
       "      <td>0.8</td>\n",
       "      <td>48.5267627187, 1.80513972814</td>\n",
       "      <td>{\"type\": \"Polygon\", \"coordinates\": [[[1.829610...</td>\n",
       "    </tr>\n",
       "    <tr>\n",
       "      <th>84081</th>\n",
       "      <td>84310</td>\n",
       "      <td>MORIERES-LES-AVIGNON</td>\n",
       "      <td>VAUCLUSE</td>\n",
       "      <td>PROVENCE-ALPES-COTE D'AZUR</td>\n",
       "      <td>Commune simple</td>\n",
       "      <td>49.0</td>\n",
       "      <td>1042.0</td>\n",
       "      <td>7.6</td>\n",
       "      <td>43.9337788848, 4.90875878315</td>\n",
       "      <td>{\"type\": \"Polygon\", \"coordinates\": [[[4.927176...</td>\n",
       "    </tr>\n",
       "  </tbody>\n",
       "</table>\n",
       "</div>"
      ],
      "text/plain": [
       "           Code Postal               Commune    Département  \\\n",
       "Code INSEE                                                    \n",
       "31080            31350    BOULOGNE-SUR-GESSE  HAUTE-GARONNE   \n",
       "11143            11510               FEUILLA           AUDE   \n",
       "43028            43200            BESSAMOREL    HAUTE-LOIRE   \n",
       "78506            78660    PRUNAY-EN-YVELINES       YVELINES   \n",
       "84081            84310  MORIERES-LES-AVIGNON       VAUCLUSE   \n",
       "\n",
       "                                Région            Statut  Altitude Moyenne  \\\n",
       "Code INSEE                                                                   \n",
       "31080                    MIDI-PYRENEES  Chef-lieu canton             301.0   \n",
       "11143             LANGUEDOC-ROUSSILLON    Commune simple             314.0   \n",
       "43028                         AUVERGNE    Commune simple             888.0   \n",
       "78506                    ILE-DE-FRANCE    Commune simple             155.0   \n",
       "84081       PROVENCE-ALPES-COTE D'AZUR    Commune simple              49.0   \n",
       "\n",
       "            Superficie  Population                   geo_point_2d  \\\n",
       "Code INSEE                                                          \n",
       "31080           2470.0         1.6  43.2904403081, 0.650641474176   \n",
       "11143           2426.0         0.1   42.9291375888, 2.90138923544   \n",
       "43028            743.0         0.4   45.1306448726, 4.07952494849   \n",
       "78506           2717.0         0.8   48.5267627187, 1.80513972814   \n",
       "84081           1042.0         7.6   43.9337788848, 4.90875878315   \n",
       "\n",
       "                                                    geo_shape  \n",
       "Code INSEE                                                     \n",
       "31080       {\"type\": \"Polygon\", \"coordinates\": [[[0.671852...  \n",
       "11143       {\"type\": \"Polygon\", \"coordinates\": [[[2.906996...  \n",
       "43028       {\"type\": \"Polygon\", \"coordinates\": [[[4.091674...  \n",
       "78506       {\"type\": \"Polygon\", \"coordinates\": [[[1.829610...  \n",
       "84081       {\"type\": \"Polygon\", \"coordinates\": [[[4.927176...  "
      ]
     },
     "execution_count": 16,
     "metadata": {},
     "output_type": "execute_result"
    }
   ],
   "source": [
    "# modification de l'index\n",
    "geo = geo.set_index(\"Code INSEE\")\n",
    "geo.head()"
   ]
  },
  {
   "cell_type": "code",
   "execution_count": 17,
   "metadata": {},
   "outputs": [
    {
     "data": {
      "text/plain": [
       "Index(['31080', '11143', '43028', '78506', '84081', '80462', '40200', '17394',\n",
       "       '61422', '80496',\n",
       "       ...\n",
       "       '28379', '14325', '15024', '76008', '02137', '74066', '67315', '07122',\n",
       "       '01026', '50224'],\n",
       "      dtype='object', name='Code INSEE', length=36742)"
      ]
     },
     "execution_count": 17,
     "metadata": {},
     "output_type": "execute_result"
    }
   ],
   "source": [
    "geo.index"
   ]
  },
  {
   "cell_type": "code",
   "execution_count": null,
   "metadata": {
    "scrolled": false
   },
   "outputs": [],
   "source": [
    "# test de l'unicité de l'index\n",
    "geo.index.is_unique"
   ]
  },
  {
   "cell_type": "markdown",
   "metadata": {},
   "source": [
    "**Exercice**\n",
    "\n",
    "- Effectuez un reset_index() puis modifiez l'index en utilisant la colonne 'Commune'.\n",
    "- Testez l'unicité de l'index. Expliquez."
   ]
  },
  {
   "cell_type": "code",
   "execution_count": null,
   "metadata": {},
   "outputs": [],
   "source": []
  },
  {
   "cell_type": "markdown",
   "metadata": {},
   "source": [
    "## Sélections dans les Series\n",
    "\n",
    "- index (label) vs indice (position)\n",
    "- s[i]\n",
    "- s[[i, j, k]] (fancy indexing)\n",
    "- s[i:j], s[i:j:k]\n",
    "- s.loc[]\n",
    "- s.iloc[]\n",
    "- s[mask] (masque booléen ET &, OU |, NON ~)\n",
    "- opérations logiques all() et any()"
   ]
  },
  {
   "cell_type": "code",
   "execution_count": 18,
   "metadata": {},
   "outputs": [
    {
     "data": {
      "text/html": [
       "<div>\n",
       "<style scoped>\n",
       "    .dataframe tbody tr th:only-of-type {\n",
       "        vertical-align: middle;\n",
       "    }\n",
       "\n",
       "    .dataframe tbody tr th {\n",
       "        vertical-align: top;\n",
       "    }\n",
       "\n",
       "    .dataframe thead th {\n",
       "        text-align: right;\n",
       "    }\n",
       "</style>\n",
       "<table border=\"1\" class=\"dataframe\">\n",
       "  <thead>\n",
       "    <tr style=\"text-align: right;\">\n",
       "      <th></th>\n",
       "      <th>Code Postal</th>\n",
       "      <th>Commune</th>\n",
       "      <th>Département</th>\n",
       "      <th>Région</th>\n",
       "      <th>Statut</th>\n",
       "      <th>Altitude Moyenne</th>\n",
       "      <th>Superficie</th>\n",
       "      <th>Population</th>\n",
       "      <th>geo_point_2d</th>\n",
       "      <th>geo_shape</th>\n",
       "    </tr>\n",
       "    <tr>\n",
       "      <th>Code INSEE</th>\n",
       "      <th></th>\n",
       "      <th></th>\n",
       "      <th></th>\n",
       "      <th></th>\n",
       "      <th></th>\n",
       "      <th></th>\n",
       "      <th></th>\n",
       "      <th></th>\n",
       "      <th></th>\n",
       "      <th></th>\n",
       "    </tr>\n",
       "  </thead>\n",
       "  <tbody>\n",
       "    <tr>\n",
       "      <th>01001</th>\n",
       "      <td>01400</td>\n",
       "      <td>L'ABERGEMENT-CLEMENCIAT</td>\n",
       "      <td>AIN</td>\n",
       "      <td>RHONE-ALPES</td>\n",
       "      <td>Commune simple</td>\n",
       "      <td>242.0</td>\n",
       "      <td>1565.0</td>\n",
       "      <td>0.8</td>\n",
       "      <td>46.1534255214, 4.92611354223</td>\n",
       "      <td>{\"type\": \"Polygon\", \"coordinates\": [[[4.926273...</td>\n",
       "    </tr>\n",
       "    <tr>\n",
       "      <th>01002</th>\n",
       "      <td>01640</td>\n",
       "      <td>L'ABERGEMENT-DE-VAREY</td>\n",
       "      <td>AIN</td>\n",
       "      <td>RHONE-ALPES</td>\n",
       "      <td>Commune simple</td>\n",
       "      <td>483.0</td>\n",
       "      <td>912.0</td>\n",
       "      <td>0.2</td>\n",
       "      <td>46.0091878776, 5.42801696363</td>\n",
       "      <td>{\"type\": \"Polygon\", \"coordinates\": [[[5.430089...</td>\n",
       "    </tr>\n",
       "    <tr>\n",
       "      <th>01004</th>\n",
       "      <td>01500</td>\n",
       "      <td>AMBERIEU-EN-BUGEY</td>\n",
       "      <td>AIN</td>\n",
       "      <td>RHONE-ALPES</td>\n",
       "      <td>Chef-lieu canton</td>\n",
       "      <td>379.0</td>\n",
       "      <td>2448.0</td>\n",
       "      <td>13.4</td>\n",
       "      <td>45.9608475114, 5.3729257777</td>\n",
       "      <td>{\"type\": \"Polygon\", \"coordinates\": [[[5.386190...</td>\n",
       "    </tr>\n",
       "    <tr>\n",
       "      <th>01005</th>\n",
       "      <td>01330</td>\n",
       "      <td>AMBERIEUX-EN-DOMBES</td>\n",
       "      <td>AIN</td>\n",
       "      <td>RHONE-ALPES</td>\n",
       "      <td>Commune simple</td>\n",
       "      <td>290.0</td>\n",
       "      <td>1605.0</td>\n",
       "      <td>1.6</td>\n",
       "      <td>45.9961799872, 4.91227250796</td>\n",
       "      <td>{\"type\": \"Polygon\", \"coordinates\": [[[4.895580...</td>\n",
       "    </tr>\n",
       "    <tr>\n",
       "      <th>01006</th>\n",
       "      <td>01300</td>\n",
       "      <td>AMBLEON</td>\n",
       "      <td>AIN</td>\n",
       "      <td>RHONE-ALPES</td>\n",
       "      <td>Commune simple</td>\n",
       "      <td>589.0</td>\n",
       "      <td>602.0</td>\n",
       "      <td>0.1</td>\n",
       "      <td>45.7494989044, 5.59432017366</td>\n",
       "      <td>{\"type\": \"Polygon\", \"coordinates\": [[[5.614854...</td>\n",
       "    </tr>\n",
       "  </tbody>\n",
       "</table>\n",
       "</div>"
      ],
      "text/plain": [
       "           Code Postal                  Commune Département       Région  \\\n",
       "Code INSEE                                                                 \n",
       "01001            01400  L'ABERGEMENT-CLEMENCIAT         AIN  RHONE-ALPES   \n",
       "01002            01640    L'ABERGEMENT-DE-VAREY         AIN  RHONE-ALPES   \n",
       "01004            01500        AMBERIEU-EN-BUGEY         AIN  RHONE-ALPES   \n",
       "01005            01330      AMBERIEUX-EN-DOMBES         AIN  RHONE-ALPES   \n",
       "01006            01300                  AMBLEON         AIN  RHONE-ALPES   \n",
       "\n",
       "                      Statut  Altitude Moyenne  Superficie  Population  \\\n",
       "Code INSEE                                                               \n",
       "01001         Commune simple             242.0      1565.0         0.8   \n",
       "01002         Commune simple             483.0       912.0         0.2   \n",
       "01004       Chef-lieu canton             379.0      2448.0        13.4   \n",
       "01005         Commune simple             290.0      1605.0         1.6   \n",
       "01006         Commune simple             589.0       602.0         0.1   \n",
       "\n",
       "                            geo_point_2d  \\\n",
       "Code INSEE                                 \n",
       "01001       46.1534255214, 4.92611354223   \n",
       "01002       46.0091878776, 5.42801696363   \n",
       "01004        45.9608475114, 5.3729257777   \n",
       "01005       45.9961799872, 4.91227250796   \n",
       "01006       45.7494989044, 5.59432017366   \n",
       "\n",
       "                                                    geo_shape  \n",
       "Code INSEE                                                     \n",
       "01001       {\"type\": \"Polygon\", \"coordinates\": [[[4.926273...  \n",
       "01002       {\"type\": \"Polygon\", \"coordinates\": [[[5.430089...  \n",
       "01004       {\"type\": \"Polygon\", \"coordinates\": [[[5.386190...  \n",
       "01005       {\"type\": \"Polygon\", \"coordinates\": [[[4.895580...  \n",
       "01006       {\"type\": \"Polygon\", \"coordinates\": [[[5.614854...  "
      ]
     },
     "execution_count": 18,
     "metadata": {},
     "output_type": "execute_result"
    }
   ],
   "source": [
    "# chargement des données\n",
    "geo = pd.read_csv(\"correspondance-code-insee-code-postal.csv\",\n",
    "                   sep=';',\n",
    "                   usecols=range(11))\n",
    "geo = geo.set_index('Code INSEE')\n",
    "geo = geo.sort_index()\n",
    "geo.head()"
   ]
  },
  {
   "cell_type": "code",
   "execution_count": 19,
   "metadata": {},
   "outputs": [
    {
     "data": {
      "text/plain": [
       "'PALAISEAU'"
      ]
     },
     "execution_count": 19,
     "metadata": {},
     "output_type": "execute_result"
    }
   ],
   "source": [
    "# sélection par index\n",
    "s = geo['Commune']\n",
    "s.loc['91477'] # ou s['91477']"
   ]
  },
  {
   "cell_type": "code",
   "execution_count": 20,
   "metadata": {},
   "outputs": [
    {
     "data": {
      "text/plain": [
       "'PALAISEAU'"
      ]
     },
     "execution_count": 20,
     "metadata": {},
     "output_type": "execute_result"
    }
   ],
   "source": [
    "# sélection par indice\n",
    "s.iloc[36240] # ou s[36240]"
   ]
  },
  {
   "cell_type": "code",
   "execution_count": 21,
   "metadata": {},
   "outputs": [
    {
     "data": {
      "text/plain": [
       "Code INSEE\n",
       "01001    L'ABERGEMENT-CLEMENCIAT\n",
       "01004          AMBERIEU-EN-BUGEY\n",
       "01006                    AMBLEON\n",
       "Name: Commune, dtype: object"
      ]
     },
     "execution_count": 21,
     "metadata": {},
     "output_type": "execute_result"
    }
   ],
   "source": [
    "# sélection par une liste d'index\n",
    "s.loc[['01001', '01004', '01006']] # ou s[['01001', '01004', '01006']]"
   ]
  },
  {
   "cell_type": "code",
   "execution_count": 22,
   "metadata": {},
   "outputs": [
    {
     "data": {
      "text/plain": [
       "Code INSEE\n",
       "01001    L'ABERGEMENT-CLEMENCIAT\n",
       "01004          AMBERIEU-EN-BUGEY\n",
       "01006                    AMBLEON\n",
       "Name: Commune, dtype: object"
      ]
     },
     "execution_count": 22,
     "metadata": {},
     "output_type": "execute_result"
    }
   ],
   "source": [
    "# sélection par une liste d'index\n",
    "l = ['01001', '01004', '01006']\n",
    "s.loc[l] # ou s[['01001', '01004', '01006']]"
   ]
  },
  {
   "cell_type": "code",
   "execution_count": 23,
   "metadata": {},
   "outputs": [
    {
     "data": {
      "text/plain": [
       "Code INSEE\n",
       "01001    L'ABERGEMENT-CLEMENCIAT\n",
       "01004          AMBERIEU-EN-BUGEY\n",
       "01006                    AMBLEON\n",
       "Name: Commune, dtype: object"
      ]
     },
     "execution_count": 23,
     "metadata": {},
     "output_type": "execute_result"
    }
   ],
   "source": [
    "# sélection par une liste d'indices\n",
    "s.iloc[[0, 2, 4]] # ou s[[0, 2, 4]]"
   ]
  },
  {
   "cell_type": "code",
   "execution_count": null,
   "metadata": {},
   "outputs": [],
   "source": [
    "# sélection par une plage d'index\n",
    "# 01006 est inclus\n",
    "s.loc['01001':'01006'] # ou s['01001':'01006']"
   ]
  },
  {
   "cell_type": "code",
   "execution_count": null,
   "metadata": {},
   "outputs": [],
   "source": [
    "# sélection par une plage d'indices\n",
    "# 5 est exclu\n",
    "s.iloc[0:5] # ou s[0:5]"
   ]
  },
  {
   "cell_type": "code",
   "execution_count": null,
   "metadata": {},
   "outputs": [],
   "source": [
    "# sélection par une plage d'index\n",
    "# 01006 est inclus\n",
    "s.loc['01001':'01006':2] # ou s['01001':'01006':2]"
   ]
  },
  {
   "cell_type": "code",
   "execution_count": null,
   "metadata": {},
   "outputs": [],
   "source": [
    "# sélection par une plage d'indices\n",
    "# 5 est exclu\n",
    "s.iloc[0:5:2] # ou s[0:5:2]"
   ]
  },
  {
   "cell_type": "code",
   "execution_count": null,
   "metadata": {},
   "outputs": [],
   "source": [
    "# Series\n",
    "s"
   ]
  },
  {
   "cell_type": "code",
   "execution_count": null,
   "metadata": {
    "scrolled": false
   },
   "outputs": [],
   "source": [
    "# vecteur de booléens selon si le nom de la ville commence par \"A\"\n",
    "masque = s.str.startswith(\"A\")\n",
    "masque"
   ]
  },
  {
   "cell_type": "code",
   "execution_count": null,
   "metadata": {
    "scrolled": false
   },
   "outputs": [],
   "source": [
    "# sélection à partir du vecteur de booléens\n",
    "s.loc[masque]  # ou bien s[masque]"
   ]
  },
  {
   "cell_type": "code",
   "execution_count": 24,
   "metadata": {
    "scrolled": false
   },
   "outputs": [
    {
     "data": {
      "text/plain": [
       "Code INSEE\n",
       "01331                   SAINT-ALBAN\n",
       "01332           SAINT-ANDRE-DE-BAGE\n",
       "01333          SAINT-ANDRE-DE-CORCY\n",
       "01334         SAINT-ANDRE-D'HUIRIAT\n",
       "01335       SAINT-ANDRE-LE-BOUCHOUX\n",
       "01336    SAINT-ANDRE-SUR-VIEUX-JONC\n",
       "01337                 SAINT-BENIGNE\n",
       "01338                  SAINT-BENOIT\n",
       "                    ...            \n",
       "97413                     SAINT-LEU\n",
       "97414                   SAINT-LOUIS\n",
       "97415                    SAINT-PAUL\n",
       "97416                  SAINT-PIERRE\n",
       "97417                SAINT-PHILIPPE\n",
       "97418                  SAINTE-MARIE\n",
       "97419                   SAINTE-ROSE\n",
       "97420                SAINTE-SUZANNE\n",
       "Name: Commune, Length: 4256, dtype: object"
      ]
     },
     "execution_count": 24,
     "metadata": {},
     "output_type": "execute_result"
    }
   ],
   "source": [
    "# les communes qui commencent par SAINT\n",
    "s.loc[s.str.startswith(\"SAINT\")]"
   ]
  },
  {
   "cell_type": "markdown",
   "metadata": {},
   "source": [
    "**Exercice**\n",
    "- Quelles communes commencent par la lettre \"Z\" ?\n",
    "- Quelles communes commencent et finissent par la lettre \"Y\" ?\n",
    "- Combien de communes sont \"SUR-MER\" ?\n",
    "- Quelles communes ont un nom avec la préposition \"SOUS\" ?\n",
    "- Quelles communes ont un nom avec \"SOUS\" mais pas la préposition \"SOUS\" ?"
   ]
  },
  {
   "cell_type": "code",
   "execution_count": 32,
   "metadata": {},
   "outputs": [
    {
     "data": {
      "text/plain": [
       "Code INSEE\n",
       "17433                 SOUSMOULINS\n",
       "21613         SOUSSEY-SUR-BRIONNE\n",
       "23175                 SOUS-PARSAT\n",
       "25001              ABBANS-DESSOUS\n",
       "25034               AUXON-DESSOUS\n",
       "26343                  SOUSPIERRE\n",
       "30323                   SOUSTELLE\n",
       "31015               ARGUT-DESSOUS\n",
       "31064    BENQUE-DESSOUS-ET-DESSUS\n",
       "31408                    PAYSSOUS\n",
       "32218              LOUSSOUS-DEBAT\n",
       "33516                     SOUSSAC\n",
       "33517                    SOUSSANS\n",
       "38497                   SOUSVILLE\n",
       "40069         CASTAIGNOS-SOUSLENS\n",
       "40310                    SOUSTONS\n",
       "46311                  SOUSCEYRAC\n",
       "47066            CLERMONT-DESSOUS\n",
       "51545                   SOMMESOUS\n",
       "65032              ARRENS-MARSOUS\n",
       "73263       SAINT-OFFENGE-DESSOUS\n",
       "91689                     WISSOUS\n",
       "Name: Commune, dtype: object"
      ]
     },
     "execution_count": 32,
     "metadata": {},
     "output_type": "execute_result"
    }
   ],
   "source": [
    "s.loc[s.str.contains(\"SOUS\") &~s.str.contains(\"-SOUS-\")]"
   ]
  },
  {
   "cell_type": "code",
   "execution_count": 31,
   "metadata": {},
   "outputs": [
    {
     "data": {
      "text/plain": [
       "Code INSEE\n",
       "02028              ATHIES-SOUS-LAON\n",
       "02037             AULNOIS-SOUS-LAON\n",
       "02107        BOURGUIGNON-SOUS-COUCY\n",
       "02108    BOURGUIGNON-SOUS-MONTBAVIN\n",
       "02147      LA CELLE-SOUS-MONTMIRAIL\n",
       "02423            LEUILLY-SOUS-COUCY\n",
       "02460              MARCY-SOUS-MARLE\n",
       "02516           MONTIGNY-SOUS-MARLE\n",
       "                    ...            \n",
       "93014              CLICHY-SOUS-BOIS\n",
       "93057       LES PAVILLONS-SOUS-BOIS\n",
       "93064               ROSNY-SOUS-BOIS\n",
       "94033            FONTENAY-SOUS-BOIS\n",
       "95316               JAGNY-SOUS-BOIS\n",
       "95539        SAINT-BRICE-SOUS-FORET\n",
       "95598        SOISY-SOUS-MONTMORENCY\n",
       "95660           VILLAINES-SOUS-BOIS\n",
       "Name: Commune, Length: 277, dtype: object"
      ]
     },
     "execution_count": 31,
     "metadata": {},
     "output_type": "execute_result"
    }
   ],
   "source": [
    "s.loc[s.str.contains(\"-SOUS-\")]"
   ]
  },
  {
   "cell_type": "code",
   "execution_count": 29,
   "metadata": {},
   "outputs": [
    {
     "data": {
      "text/plain": [
       "Code INSEE\n",
       "06011         BEAULIEU-SUR-MER\n",
       "06027           CAGNES-SUR-MER\n",
       "06138          THEOULE-SUR-MER\n",
       "06159     VILLEFRANCHE-SUR-MER\n",
       "13039              FOS-SUR-MER\n",
       "14059       BENERVILLE-SUR-MER\n",
       "14062             BENY-SUR-MER\n",
       "14066        BERNIERES-SUR-MER\n",
       "                 ...          \n",
       "85035     BRETIGNOLLES-SUR-MER\n",
       "85114             JARD-SUR-MER\n",
       "85127       LONGEVILLE-SUR-MER\n",
       "85166           OLONNE-SUR-MER\n",
       "85201    SAINT-BENOIST-SUR-MER\n",
       "85243             BREM-SUR-MER\n",
       "85294       LA TRANCHE-SUR-MER\n",
       "85307         LA FAUTE-SUR-MER\n",
       "Name: Commune, Length: 100, dtype: object"
      ]
     },
     "execution_count": 29,
     "metadata": {},
     "output_type": "execute_result"
    }
   ],
   "source": [
    "s.loc[s.str.endswith(\"SUR-MER\")]"
   ]
  },
  {
   "cell_type": "code",
   "execution_count": 28,
   "metadata": {},
   "outputs": [
    {
     "data": {
      "text/plain": [
       "Code INSEE\n",
       "28425     YMERAY\n",
       "49381    YZERNAY\n",
       "80829          Y\n",
       "86300    YVERSAY\n",
       "Name: Commune, dtype: object"
      ]
     },
     "execution_count": 28,
     "metadata": {},
     "output_type": "execute_result"
    }
   ],
   "source": [
    "s.loc[s.str.startswith(\"Y\") & s.str.endswith(\"Y\")]"
   ]
  },
  {
   "cell_type": "code",
   "execution_count": 25,
   "metadata": {},
   "outputs": [
    {
     "data": {
      "text/plain": [
       "Code INSEE\n",
       "2A357         ZERUBIA\n",
       "2A358          ZEVACO\n",
       "2A359          ZICAVO\n",
       "2A360        ZIGLIARA\n",
       "2A362           ZONZA\n",
       "2A363            ZOZA\n",
       "2B356          ZALANA\n",
       "2B361           ZILIA\n",
       "2B364           ZUANI\n",
       "57759       ZARBELING\n",
       "57760         ZETTING\n",
       "57761         ZILLING\n",
       "57762         ZIMMING\n",
       "57763        ZOMMANGE\n",
       "57764       ZOUFFTGEN\n",
       "59666    ZEGERSCAPPEL\n",
       "59667      ZERMEZEELE\n",
       "59668       ZUYDCOOTE\n",
       "59669       ZUYTPEENE\n",
       "62903          ZOTEUX\n",
       "62904       ZOUAFQUES\n",
       "62905      ZUDAUSQUES\n",
       "62906       ZUTKERQUE\n",
       "67555       ZEHNACKER\n",
       "67556        ZEINHEIM\n",
       "67557      ZELLWILLER\n",
       "67558      ZINSWILLER\n",
       "67559     ZITTERSHEIM\n",
       "67560     ZOEBERSDORF\n",
       "68382      ZAESSINGUE\n",
       "68383      ZELLENBERG\n",
       "68384      ZILLISHEIM\n",
       "68385      ZIMMERBACH\n",
       "68386     ZIMMERSHEIM\n",
       "88532        ZINCOURT\n",
       "Name: Commune, dtype: object"
      ]
     },
     "execution_count": 25,
     "metadata": {},
     "output_type": "execute_result"
    }
   ],
   "source": [
    "s.loc[s.str.startswith(\"Z\")]"
   ]
  },
  {
   "cell_type": "markdown",
   "metadata": {},
   "source": [
    "### Point sur les expressions régulières\n",
    "\n",
    "Voir le module **re**"
   ]
  },
  {
   "cell_type": "code",
   "execution_count": null,
   "metadata": {},
   "outputs": [],
   "source": [
    "# les communes comportant 2 Z accolés\n",
    "s.loc[s.str.contains(\"ZZ\")]"
   ]
  },
  {
   "cell_type": "markdown",
   "metadata": {},
   "source": [
    "Caractères spéciaux :\n",
    "\n",
    "- .: tout caractère\n",
    "- ^: le début de la chaine\n",
    "- $: la fin de la chaine\n",
    "- *: 0 ou plusieurs répétitions du motif précédent\n",
    "- +: 1 ou plusieurs répétitions du motif précédent\n",
    "- ?: 0 ou 1 répétition du motif précédent\n",
    "- \\\\: pour que ces caractères soient traités normalement, il faut les préfixer par un \\\\\n",
    "- [A-Za-zÀ-ÿ0-9] : tout caractère alphanumérique\n",
    "- () : capture du motif entre parenthèses"
   ]
  },
  {
   "cell_type": "code",
   "execution_count": 33,
   "metadata": {},
   "outputs": [
    {
     "data": {
      "text/plain": [
       "Code INSEE\n",
       "07161      MONTPEZAT-SOUS-BAUZON\n",
       "09105         DAUMAZAN-SUR-ARIZE\n",
       "09167             LEZAT-SUR-LEZE\n",
       "11034           BELVEZE-DU-RAZES\n",
       "11228        MAZEROLLES-DU-RAZES\n",
       "11417         VILLARZEL-DU-RAZES\n",
       "12294          VEZINS-DE-LEVEZOU\n",
       "16378                TAIZE-AIZIE\n",
       "                  ...           \n",
       "69229    SAINT-NIZIER-D'AZERGUES\n",
       "71174        DEZIZE-LES-MARANGES\n",
       "74310            VIUZ-LA-CHIESAZ\n",
       "74311             VIUZ-EN-SALLAZ\n",
       "78337              LIMETZ-VILLEZ\n",
       "88404        ROZIERES-SUR-MOUZON\n",
       "95282                 GOUZANGREZ\n",
       "97608                   DZAOUDZI\n",
       "Name: Commune, Length: 67, dtype: object"
      ]
     },
     "execution_count": 33,
     "metadata": {},
     "output_type": "execute_result"
    }
   ],
   "source": [
    "# les communes comportant 2 Z\n",
    "s.loc[s.str.contains(\"Z.*Z\")]"
   ]
  },
  {
   "cell_type": "markdown",
   "metadata": {},
   "source": [
    "### Sélections dans les DataFrames"
   ]
  },
  {
   "cell_type": "code",
   "execution_count": null,
   "metadata": {
    "scrolled": false
   },
   "outputs": [],
   "source": [
    "# sélection d'une colonne\n",
    "geo[\"Commune\"]"
   ]
  },
  {
   "cell_type": "code",
   "execution_count": null,
   "metadata": {
    "scrolled": false
   },
   "outputs": [],
   "source": [
    "# communes + superficie et population\n",
    "l = [\"Commune\", \"Superficie\", \"Population\"]\n",
    "geo[l].head()"
   ]
  },
  {
   "cell_type": "code",
   "execution_count": null,
   "metadata": {
    "scrolled": false
   },
   "outputs": [],
   "source": [
    "# communes + superficie et population\n",
    "geo[[\"Commune\", \"Superficie\", \"Population\"]].head()"
   ]
  },
  {
   "cell_type": "code",
   "execution_count": null,
   "metadata": {
    "scrolled": false
   },
   "outputs": [],
   "source": [
    "# sélection d'une ligne\n",
    "s = geo.loc[\"01001\"]\n",
    "s"
   ]
  },
  {
   "cell_type": "code",
   "execution_count": null,
   "metadata": {},
   "outputs": [],
   "source": [
    "type(s)"
   ]
  },
  {
   "cell_type": "code",
   "execution_count": null,
   "metadata": {
    "scrolled": false
   },
   "outputs": [],
   "source": [
    "# sélection d'une ligne\n",
    "geo.iloc[0]"
   ]
  },
  {
   "cell_type": "code",
   "execution_count": null,
   "metadata": {
    "scrolled": false
   },
   "outputs": [],
   "source": [
    "# sélection de plusieurs lignes\n",
    "geo.loc[\"01001\":\"01006\"]"
   ]
  },
  {
   "cell_type": "code",
   "execution_count": null,
   "metadata": {
    "scrolled": false
   },
   "outputs": [],
   "source": [
    "# sélection de plusieurs lignes\n",
    "geo.iloc[0:5]"
   ]
  },
  {
   "cell_type": "code",
   "execution_count": null,
   "metadata": {
    "scrolled": false
   },
   "outputs": [],
   "source": [
    "# sélection de plusieurs lignes et de plusieurs colonnes\n",
    "geo.loc[\"01001\":\"01006\", \"Commune\":\"Statut\"]"
   ]
  },
  {
   "cell_type": "code",
   "execution_count": null,
   "metadata": {
    "scrolled": false
   },
   "outputs": [],
   "source": [
    "# sélection de plusieurs lignes et de plusieurs colonnes\n",
    "geo.iloc[0:5, 1:5]"
   ]
  },
  {
   "cell_type": "code",
   "execution_count": 34,
   "metadata": {
    "scrolled": false
   },
   "outputs": [
    {
     "data": {
      "text/html": [
       "<div>\n",
       "<style scoped>\n",
       "    .dataframe tbody tr th:only-of-type {\n",
       "        vertical-align: middle;\n",
       "    }\n",
       "\n",
       "    .dataframe tbody tr th {\n",
       "        vertical-align: top;\n",
       "    }\n",
       "\n",
       "    .dataframe thead th {\n",
       "        text-align: right;\n",
       "    }\n",
       "</style>\n",
       "<table border=\"1\" class=\"dataframe\">\n",
       "  <thead>\n",
       "    <tr style=\"text-align: right;\">\n",
       "      <th></th>\n",
       "      <th>Code Postal</th>\n",
       "      <th>Commune</th>\n",
       "      <th>Département</th>\n",
       "      <th>Région</th>\n",
       "      <th>Statut</th>\n",
       "      <th>Altitude Moyenne</th>\n",
       "      <th>Superficie</th>\n",
       "      <th>Population</th>\n",
       "      <th>geo_point_2d</th>\n",
       "      <th>geo_shape</th>\n",
       "    </tr>\n",
       "    <tr>\n",
       "      <th>Code INSEE</th>\n",
       "      <th></th>\n",
       "      <th></th>\n",
       "      <th></th>\n",
       "      <th></th>\n",
       "      <th></th>\n",
       "      <th></th>\n",
       "      <th></th>\n",
       "      <th></th>\n",
       "      <th></th>\n",
       "      <th></th>\n",
       "    </tr>\n",
       "  </thead>\n",
       "  <tbody>\n",
       "    <tr>\n",
       "      <th>91027</th>\n",
       "      <td>91200</td>\n",
       "      <td>ATHIS-MONS</td>\n",
       "      <td>ESSONNE</td>\n",
       "      <td>ILE-DE-FRANCE</td>\n",
       "      <td>Chef-lieu canton</td>\n",
       "      <td>69.0</td>\n",
       "      <td>861.0</td>\n",
       "      <td>30.6</td>\n",
       "      <td>48.7092445775, 2.38660492325</td>\n",
       "      <td>{\"type\": \"Polygon\", \"coordinates\": [[[2.389918...</td>\n",
       "    </tr>\n",
       "    <tr>\n",
       "      <th>91174</th>\n",
       "      <td>91100</td>\n",
       "      <td>CORBEIL-ESSONNES</td>\n",
       "      <td>ESSONNE</td>\n",
       "      <td>ILE-DE-FRANCE</td>\n",
       "      <td>Chef-lieu canton</td>\n",
       "      <td>55.0</td>\n",
       "      <td>1104.0</td>\n",
       "      <td>42.5</td>\n",
       "      <td>48.6034809251, 2.46934079002</td>\n",
       "      <td>{\"type\": \"Polygon\", \"coordinates\": [[[2.481253...</td>\n",
       "    </tr>\n",
       "    <tr>\n",
       "      <th>91228</th>\n",
       "      <td>91000</td>\n",
       "      <td>EVRY</td>\n",
       "      <td>ESSONNE</td>\n",
       "      <td>ILE-DE-FRANCE</td>\n",
       "      <td>Préfecture</td>\n",
       "      <td>71.0</td>\n",
       "      <td>855.0</td>\n",
       "      <td>52.4</td>\n",
       "      <td>48.6294831659, 2.44008244492</td>\n",
       "      <td>{\"type\": \"Polygon\", \"coordinates\": [[[2.436981...</td>\n",
       "    </tr>\n",
       "    <tr>\n",
       "      <th>91377</th>\n",
       "      <td>91300</td>\n",
       "      <td>MASSY</td>\n",
       "      <td>ESSONNE</td>\n",
       "      <td>ILE-DE-FRANCE</td>\n",
       "      <td>Chef-lieu canton</td>\n",
       "      <td>81.0</td>\n",
       "      <td>940.0</td>\n",
       "      <td>40.5</td>\n",
       "      <td>48.7277896426, 2.27513131903</td>\n",
       "      <td>{\"type\": \"Polygon\", \"coordinates\": [[[2.293929...</td>\n",
       "    </tr>\n",
       "    <tr>\n",
       "      <th>91477</th>\n",
       "      <td>91120</td>\n",
       "      <td>PALAISEAU</td>\n",
       "      <td>ESSONNE</td>\n",
       "      <td>ILE-DE-FRANCE</td>\n",
       "      <td>Sous-préfecture</td>\n",
       "      <td>118.0</td>\n",
       "      <td>1168.0</td>\n",
       "      <td>30.3</td>\n",
       "      <td>48.7146765876, 2.22881488083</td>\n",
       "      <td>{\"type\": \"Polygon\", \"coordinates\": [[[2.259350...</td>\n",
       "    </tr>\n",
       "    <tr>\n",
       "      <th>91549</th>\n",
       "      <td>91700</td>\n",
       "      <td>SAINTE-GENEVIEVE-DES-BOIS</td>\n",
       "      <td>ESSONNE</td>\n",
       "      <td>ILE-DE-FRANCE</td>\n",
       "      <td>Chef-lieu canton</td>\n",
       "      <td>74.0</td>\n",
       "      <td>936.0</td>\n",
       "      <td>34.1</td>\n",
       "      <td>48.6412523804, 2.33019417891</td>\n",
       "      <td>{\"type\": \"Polygon\", \"coordinates\": [[[2.349942...</td>\n",
       "    </tr>\n",
       "    <tr>\n",
       "      <th>91589</th>\n",
       "      <td>91600</td>\n",
       "      <td>SAVIGNY-SUR-ORGE</td>\n",
       "      <td>ESSONNE</td>\n",
       "      <td>ILE-DE-FRANCE</td>\n",
       "      <td>Chef-lieu canton</td>\n",
       "      <td>74.0</td>\n",
       "      <td>700.0</td>\n",
       "      <td>37.1</td>\n",
       "      <td>48.684228392, 2.34873862215</td>\n",
       "      <td>{\"type\": \"Polygon\", \"coordinates\": [[[2.338125...</td>\n",
       "    </tr>\n",
       "    <tr>\n",
       "      <th>91687</th>\n",
       "      <td>91170</td>\n",
       "      <td>VIRY-CHATILLON</td>\n",
       "      <td>ESSONNE</td>\n",
       "      <td>ILE-DE-FRANCE</td>\n",
       "      <td>Chef-lieu canton</td>\n",
       "      <td>54.0</td>\n",
       "      <td>615.0</td>\n",
       "      <td>31.6</td>\n",
       "      <td>48.6696168935, 2.37374357641</td>\n",
       "      <td>{\"type\": \"Polygon\", \"coordinates\": [[[2.365772...</td>\n",
       "    </tr>\n",
       "  </tbody>\n",
       "</table>\n",
       "</div>"
      ],
      "text/plain": [
       "           Code Postal                    Commune Département         Région  \\\n",
       "Code INSEE                                                                     \n",
       "91027            91200                 ATHIS-MONS     ESSONNE  ILE-DE-FRANCE   \n",
       "91174            91100           CORBEIL-ESSONNES     ESSONNE  ILE-DE-FRANCE   \n",
       "91228            91000                       EVRY     ESSONNE  ILE-DE-FRANCE   \n",
       "91377            91300                      MASSY     ESSONNE  ILE-DE-FRANCE   \n",
       "91477            91120                  PALAISEAU     ESSONNE  ILE-DE-FRANCE   \n",
       "91549            91700  SAINTE-GENEVIEVE-DES-BOIS     ESSONNE  ILE-DE-FRANCE   \n",
       "91589            91600           SAVIGNY-SUR-ORGE     ESSONNE  ILE-DE-FRANCE   \n",
       "91687            91170             VIRY-CHATILLON     ESSONNE  ILE-DE-FRANCE   \n",
       "\n",
       "                      Statut  Altitude Moyenne  Superficie  Population  \\\n",
       "Code INSEE                                                               \n",
       "91027       Chef-lieu canton              69.0       861.0        30.6   \n",
       "91174       Chef-lieu canton              55.0      1104.0        42.5   \n",
       "91228             Préfecture              71.0       855.0        52.4   \n",
       "91377       Chef-lieu canton              81.0       940.0        40.5   \n",
       "91477        Sous-préfecture             118.0      1168.0        30.3   \n",
       "91549       Chef-lieu canton              74.0       936.0        34.1   \n",
       "91589       Chef-lieu canton              74.0       700.0        37.1   \n",
       "91687       Chef-lieu canton              54.0       615.0        31.6   \n",
       "\n",
       "                            geo_point_2d  \\\n",
       "Code INSEE                                 \n",
       "91027       48.7092445775, 2.38660492325   \n",
       "91174       48.6034809251, 2.46934079002   \n",
       "91228       48.6294831659, 2.44008244492   \n",
       "91377       48.7277896426, 2.27513131903   \n",
       "91477       48.7146765876, 2.22881488083   \n",
       "91549       48.6412523804, 2.33019417891   \n",
       "91589        48.684228392, 2.34873862215   \n",
       "91687       48.6696168935, 2.37374357641   \n",
       "\n",
       "                                                    geo_shape  \n",
       "Code INSEE                                                     \n",
       "91027       {\"type\": \"Polygon\", \"coordinates\": [[[2.389918...  \n",
       "91174       {\"type\": \"Polygon\", \"coordinates\": [[[2.481253...  \n",
       "91228       {\"type\": \"Polygon\", \"coordinates\": [[[2.436981...  \n",
       "91377       {\"type\": \"Polygon\", \"coordinates\": [[[2.293929...  \n",
       "91477       {\"type\": \"Polygon\", \"coordinates\": [[[2.259350...  \n",
       "91549       {\"type\": \"Polygon\", \"coordinates\": [[[2.349942...  \n",
       "91589       {\"type\": \"Polygon\", \"coordinates\": [[[2.338125...  \n",
       "91687       {\"type\": \"Polygon\", \"coordinates\": [[[2.365772...  "
      ]
     },
     "execution_count": 34,
     "metadata": {},
     "output_type": "execute_result"
    }
   ],
   "source": [
    "# les communes de l'Essonne avec une population supérieure à 30000\n",
    "geo.loc[(geo[\"Département\"] == \"ESSONNE\") & (geo[\"Population\"] > 30.0)]"
   ]
  },
  {
   "cell_type": "markdown",
   "metadata": {},
   "source": [
    "**Exercice**\n",
    "\n",
    "- Affichez l'altitude moyenne, la superficie et la population de toutes les communes dénommées Sainte-Colombe.\n",
    "- Combien y a-t-il de départements dans lesquels au moins une commune a plus de 200.000 habitants ?\n",
    "- Donner la liste de ces départements.\n",
    "- Combien y a-t-il de communes dont le nom comporte 2 lettres?\n",
    "- Donnez la liste de ces communes dans l'ordre alphabétique.\n",
    "- Sélectionnez les communes pour lesquelles l'atitude moyenne vaut la superficie.\n",
    "- Quelle est la population totale de ces communes ?\n",
    "- Y a-t-il des communes au niveau de la mer ?"
   ]
  },
  {
   "cell_type": "code",
   "execution_count": 41,
   "metadata": {
    "collapsed": true
   },
   "outputs": [
    {
     "data": {
      "text/html": [
       "<div>\n",
       "<style scoped>\n",
       "    .dataframe tbody tr th:only-of-type {\n",
       "        vertical-align: middle;\n",
       "    }\n",
       "\n",
       "    .dataframe tbody tr th {\n",
       "        vertical-align: top;\n",
       "    }\n",
       "\n",
       "    .dataframe thead th {\n",
       "        text-align: right;\n",
       "    }\n",
       "</style>\n",
       "<table border=\"1\" class=\"dataframe\">\n",
       "  <thead>\n",
       "    <tr style=\"text-align: right;\">\n",
       "      <th></th>\n",
       "      <th>Altitude Moyenne</th>\n",
       "      <th>Superficie</th>\n",
       "      <th>Population</th>\n",
       "    </tr>\n",
       "    <tr>\n",
       "      <th>Code INSEE</th>\n",
       "      <th></th>\n",
       "      <th></th>\n",
       "      <th></th>\n",
       "    </tr>\n",
       "  </thead>\n",
       "  <tbody>\n",
       "    <tr>\n",
       "      <th>05135</th>\n",
       "      <td>965.0</td>\n",
       "      <td>1726.0</td>\n",
       "      <td>0.1</td>\n",
       "    </tr>\n",
       "    <tr>\n",
       "      <th>16309</th>\n",
       "      <td>102.0</td>\n",
       "      <td>654.0</td>\n",
       "      <td>0.2</td>\n",
       "    </tr>\n",
       "    <tr>\n",
       "      <th>17319</th>\n",
       "      <td>111.0</td>\n",
       "      <td>440.0</td>\n",
       "      <td>0.1</td>\n",
       "    </tr>\n",
       "    <tr>\n",
       "      <th>21544</th>\n",
       "      <td>441.0</td>\n",
       "      <td>633.0</td>\n",
       "      <td>0.1</td>\n",
       "    </tr>\n",
       "    <tr>\n",
       "      <th>25515</th>\n",
       "      <td>884.0</td>\n",
       "      <td>1052.0</td>\n",
       "      <td>0.3</td>\n",
       "    </tr>\n",
       "    <tr>\n",
       "      <th>33390</th>\n",
       "      <td>61.0</td>\n",
       "      <td>404.0</td>\n",
       "      <td>0.4</td>\n",
       "    </tr>\n",
       "    <tr>\n",
       "      <th>35262</th>\n",
       "      <td>75.0</td>\n",
       "      <td>776.0</td>\n",
       "      <td>0.3</td>\n",
       "    </tr>\n",
       "    <tr>\n",
       "      <th>40252</th>\n",
       "      <td>96.0</td>\n",
       "      <td>1289.0</td>\n",
       "      <td>0.6</td>\n",
       "    </tr>\n",
       "    <tr>\n",
       "      <th>46260</th>\n",
       "      <td>516.0</td>\n",
       "      <td>1131.0</td>\n",
       "      <td>0.2</td>\n",
       "    </tr>\n",
       "    <tr>\n",
       "      <th>50457</th>\n",
       "      <td>20.0</td>\n",
       "      <td>509.0</td>\n",
       "      <td>0.2</td>\n",
       "    </tr>\n",
       "    <tr>\n",
       "      <th>69189</th>\n",
       "      <td>216.0</td>\n",
       "      <td>158.0</td>\n",
       "      <td>1.9</td>\n",
       "    </tr>\n",
       "    <tr>\n",
       "      <th>76569</th>\n",
       "      <td>100.0</td>\n",
       "      <td>584.0</td>\n",
       "      <td>0.2</td>\n",
       "    </tr>\n",
       "    <tr>\n",
       "      <th>77404</th>\n",
       "      <td>115.0</td>\n",
       "      <td>813.0</td>\n",
       "      <td>1.8</td>\n",
       "    </tr>\n",
       "    <tr>\n",
       "      <th>89339</th>\n",
       "      <td>279.0</td>\n",
       "      <td>1851.0</td>\n",
       "      <td>0.2</td>\n",
       "    </tr>\n",
       "  </tbody>\n",
       "</table>\n",
       "</div>"
      ],
      "text/plain": [
       "            Altitude Moyenne  Superficie  Population\n",
       "Code INSEE                                          \n",
       "05135                  965.0      1726.0         0.1\n",
       "16309                  102.0       654.0         0.2\n",
       "17319                  111.0       440.0         0.1\n",
       "21544                  441.0       633.0         0.1\n",
       "25515                  884.0      1052.0         0.3\n",
       "33390                   61.0       404.0         0.4\n",
       "35262                   75.0       776.0         0.3\n",
       "40252                   96.0      1289.0         0.6\n",
       "46260                  516.0      1131.0         0.2\n",
       "50457                   20.0       509.0         0.2\n",
       "69189                  216.0       158.0         1.9\n",
       "76569                  100.0       584.0         0.2\n",
       "77404                  115.0       813.0         1.8\n",
       "89339                  279.0      1851.0         0.2"
      ]
     },
     "execution_count": 41,
     "metadata": {},
     "output_type": "execute_result"
    }
   ],
   "source": [
    "# Affichez l'altitude moyenne, la superficie et la population de toutes les communes dénommées Sainte-Colombe.\n",
    "geo.loc[geo[\"Commune\"] == \"SAINTE-COLOMBE\",\"Altitude Moyenne\":\"Population\"]"
   ]
  },
  {
   "cell_type": "code",
   "execution_count": null,
   "metadata": {},
   "outputs": [],
   "source": [
    "# Autre \n",
    "geo.loc[geo[\"Commune\"] == \"SAINTE-COLOMBE\",\"Altitude Moyenne\",'Superficie',\"Population\"]"
   ]
  },
  {
   "cell_type": "code",
   "execution_count": 42,
   "metadata": {
    "collapsed": true
   },
   "outputs": [
    {
     "data": {
      "text/plain": [
       "9"
      ]
     },
     "execution_count": 42,
     "metadata": {},
     "output_type": "execute_result"
    }
   ],
   "source": [
    "# Combien y a-t-il de départements dans lesquels au moins une commune a plus de 200.000 habitants ?\n",
    "geo.loc[geo['Population'] > 200.0, 'Département'].nunique()"
   ]
  },
  {
   "cell_type": "code",
   "execution_count": 43,
   "metadata": {
    "collapsed": true
   },
   "outputs": [
    {
     "data": {
      "text/plain": [
       "array(['ALPES-MARITIMES', 'HAUTE-GARONNE', 'GIRONDE', 'HERAULT',\n",
       "       'ILLE-ET-VILAINE', 'LOIRE-ATLANTIQUE', 'NORD', 'BAS-RHIN', 'PARIS'],\n",
       "      dtype=object)"
      ]
     },
     "execution_count": 43,
     "metadata": {},
     "output_type": "execute_result"
    }
   ],
   "source": [
    "# Donner la liste de ces départements\n",
    "geo.loc[geo['Population'] > 200.0, 'Département'].unique()"
   ]
  },
  {
   "cell_type": "code",
   "execution_count": 44,
   "metadata": {
    "collapsed": true
   },
   "outputs": [
    {
     "data": {
      "text/html": [
       "<div>\n",
       "<style scoped>\n",
       "    .dataframe tbody tr th:only-of-type {\n",
       "        vertical-align: middle;\n",
       "    }\n",
       "\n",
       "    .dataframe tbody tr th {\n",
       "        vertical-align: top;\n",
       "    }\n",
       "\n",
       "    .dataframe thead th {\n",
       "        text-align: right;\n",
       "    }\n",
       "</style>\n",
       "<table border=\"1\" class=\"dataframe\">\n",
       "  <thead>\n",
       "    <tr style=\"text-align: right;\">\n",
       "      <th></th>\n",
       "      <th>Code Postal</th>\n",
       "      <th>Commune</th>\n",
       "      <th>Département</th>\n",
       "      <th>Région</th>\n",
       "      <th>Statut</th>\n",
       "      <th>Altitude Moyenne</th>\n",
       "      <th>Superficie</th>\n",
       "      <th>Population</th>\n",
       "      <th>geo_point_2d</th>\n",
       "      <th>geo_shape</th>\n",
       "    </tr>\n",
       "    <tr>\n",
       "      <th>Code INSEE</th>\n",
       "      <th></th>\n",
       "      <th></th>\n",
       "      <th></th>\n",
       "      <th></th>\n",
       "      <th></th>\n",
       "      <th></th>\n",
       "      <th></th>\n",
       "      <th></th>\n",
       "      <th></th>\n",
       "      <th></th>\n",
       "    </tr>\n",
       "  </thead>\n",
       "  <tbody>\n",
       "    <tr>\n",
       "      <th>08434</th>\n",
       "      <td>08390</td>\n",
       "      <td>SY</td>\n",
       "      <td>ARDENNES</td>\n",
       "      <td>CHAMPAGNE-ARDENNE</td>\n",
       "      <td>Commune simple</td>\n",
       "      <td>208.0</td>\n",
       "      <td>797.0</td>\n",
       "      <td>0.0</td>\n",
       "      <td>49.5140552485, 4.87192502711</td>\n",
       "      <td>{\"type\": \"Polygon\", \"coordinates\": [[[4.869857...</td>\n",
       "    </tr>\n",
       "    <tr>\n",
       "      <th>11131</th>\n",
       "      <td>11260</td>\n",
       "      <td>FA</td>\n",
       "      <td>AUDE</td>\n",
       "      <td>LANGUEDOC-ROUSSILLON</td>\n",
       "      <td>Commune simple</td>\n",
       "      <td>385.0</td>\n",
       "      <td>1194.0</td>\n",
       "      <td>0.4</td>\n",
       "      <td>42.9276860891, 2.17956693905</td>\n",
       "      <td>{\"type\": \"Polygon\", \"coordinates\": [[[2.180754...</td>\n",
       "    </tr>\n",
       "    <tr>\n",
       "      <th>25104</th>\n",
       "      <td>25440</td>\n",
       "      <td>BY</td>\n",
       "      <td>DOUBS</td>\n",
       "      <td>FRANCHE-COMTE</td>\n",
       "      <td>Commune simple</td>\n",
       "      <td>555.0</td>\n",
       "      <td>727.0</td>\n",
       "      <td>0.1</td>\n",
       "      <td>47.0123694644, 5.89880744574</td>\n",
       "      <td>{\"type\": \"Polygon\", \"coordinates\": [[[5.917329...</td>\n",
       "    </tr>\n",
       "    <tr>\n",
       "      <th>28064</th>\n",
       "      <td>28410</td>\n",
       "      <td>BU</td>\n",
       "      <td>EURE-ET-LOIR</td>\n",
       "      <td>CENTRE</td>\n",
       "      <td>Commune simple</td>\n",
       "      <td>131.0</td>\n",
       "      <td>2308.0</td>\n",
       "      <td>1.8</td>\n",
       "      <td>48.8022272101, 1.49327920018</td>\n",
       "      <td>{\"type\": \"Polygon\", \"coordinates\": [[[1.500514...</td>\n",
       "    </tr>\n",
       "    <tr>\n",
       "      <th>31404</th>\n",
       "      <td>31110</td>\n",
       "      <td>OO</td>\n",
       "      <td>HAUTE-GARONNE</td>\n",
       "      <td>MIDI-PYRENEES</td>\n",
       "      <td>Commune simple</td>\n",
       "      <td>2044.0</td>\n",
       "      <td>4191.0</td>\n",
       "      <td>0.1</td>\n",
       "      <td>42.7417285924, 0.496415293313</td>\n",
       "      <td>{\"type\": \"Polygon\", \"coordinates\": [[[0.526373...</td>\n",
       "    </tr>\n",
       "    <tr>\n",
       "      <th>38289</th>\n",
       "      <td>38114</td>\n",
       "      <td>OZ</td>\n",
       "      <td>ISERE</td>\n",
       "      <td>RHONE-ALPES</td>\n",
       "      <td>Commune simple</td>\n",
       "      <td>1688.0</td>\n",
       "      <td>2692.0</td>\n",
       "      <td>0.2</td>\n",
       "      <td>45.1279422675, 6.07379501436</td>\n",
       "      <td>{\"type\": \"Polygon\", \"coordinates\": [[[6.056071...</td>\n",
       "    </tr>\n",
       "    <tr>\n",
       "      <th>51030</th>\n",
       "      <td>51160</td>\n",
       "      <td>AY</td>\n",
       "      <td>MARNE</td>\n",
       "      <td>CHAMPAGNE-ARDENNE</td>\n",
       "      <td>Chef-lieu canton</td>\n",
       "      <td>136.0</td>\n",
       "      <td>1062.0</td>\n",
       "      <td>4.1</td>\n",
       "      <td>49.0625907596, 3.9973447815</td>\n",
       "      <td>{\"type\": \"Polygon\", \"coordinates\": [[[3.992719...</td>\n",
       "    </tr>\n",
       "    <tr>\n",
       "      <th>61349</th>\n",
       "      <td>61210</td>\n",
       "      <td>RI</td>\n",
       "      <td>ORNE</td>\n",
       "      <td>BASSE-NORMANDIE</td>\n",
       "      <td>Commune simple</td>\n",
       "      <td>209.0</td>\n",
       "      <td>745.0</td>\n",
       "      <td>0.2</td>\n",
       "      <td>48.788213656, -0.13879185478</td>\n",
       "      <td>{\"type\": \"Polygon\", \"coordinates\": [[[-0.13939...</td>\n",
       "    </tr>\n",
       "    <tr>\n",
       "      <th>65458</th>\n",
       "      <td>65400</td>\n",
       "      <td>UZ</td>\n",
       "      <td>HAUTES-PYRENEES</td>\n",
       "      <td>MIDI-PYRENEES</td>\n",
       "      <td>Commune simple</td>\n",
       "      <td>899.0</td>\n",
       "      <td>246.0</td>\n",
       "      <td>0.0</td>\n",
       "      <td>42.957459306, -0.0905524703645</td>\n",
       "      <td>{\"type\": \"Polygon\", \"coordinates\": [[[-0.09174...</td>\n",
       "    </tr>\n",
       "    <tr>\n",
       "      <th>66155</th>\n",
       "      <td>66360</td>\n",
       "      <td>PY</td>\n",
       "      <td>PYRENEES-ORIENTALES</td>\n",
       "      <td>LANGUEDOC-ROUSSILLON</td>\n",
       "      <td>Commune simple</td>\n",
       "      <td>1772.0</td>\n",
       "      <td>5078.0</td>\n",
       "      <td>0.1</td>\n",
       "      <td>42.4733047636, 2.36001969105</td>\n",
       "      <td>{\"type\": \"Polygon\", \"coordinates\": [[[2.333441...</td>\n",
       "    </tr>\n",
       "    <tr>\n",
       "      <th>66218</th>\n",
       "      <td>66760</td>\n",
       "      <td>UR</td>\n",
       "      <td>PYRENEES-ORIENTALES</td>\n",
       "      <td>LANGUEDOC-ROUSSILLON</td>\n",
       "      <td>Commune simple</td>\n",
       "      <td>1257.0</td>\n",
       "      <td>676.0</td>\n",
       "      <td>0.4</td>\n",
       "      <td>42.4618525308, 1.941668494</td>\n",
       "      <td>{\"type\": \"Polygon\", \"coordinates\": [[[1.942894...</td>\n",
       "    </tr>\n",
       "    <tr>\n",
       "      <th>70282</th>\n",
       "      <td>70700</td>\n",
       "      <td>GY</td>\n",
       "      <td>HAUTE-SAONE</td>\n",
       "      <td>FRANCHE-COMTE</td>\n",
       "      <td>Chef-lieu canton</td>\n",
       "      <td>260.0</td>\n",
       "      <td>2487.0</td>\n",
       "      <td>1.0</td>\n",
       "      <td>47.402856646, 5.80618920641</td>\n",
       "      <td>{\"type\": \"Polygon\", \"coordinates\": [[[5.795696...</td>\n",
       "    </tr>\n",
       "    <tr>\n",
       "      <th>76255</th>\n",
       "      <td>76260</td>\n",
       "      <td>EU</td>\n",
       "      <td>SEINE-MARITIME</td>\n",
       "      <td>HAUTE-NORMANDIE</td>\n",
       "      <td>Chef-lieu canton</td>\n",
       "      <td>63.0</td>\n",
       "      <td>1797.0</td>\n",
       "      <td>7.4</td>\n",
       "      <td>50.0413268784, 1.42861757801</td>\n",
       "      <td>{\"type\": \"Polygon\", \"coordinates\": [[[1.473321...</td>\n",
       "    </tr>\n",
       "    <tr>\n",
       "      <th>76548</th>\n",
       "      <td>76116</td>\n",
       "      <td>RY</td>\n",
       "      <td>SEINE-MARITIME</td>\n",
       "      <td>HAUTE-NORMANDIE</td>\n",
       "      <td>Commune simple</td>\n",
       "      <td>117.0</td>\n",
       "      <td>579.0</td>\n",
       "      <td>0.8</td>\n",
       "      <td>49.4733163015, 1.33609831586</td>\n",
       "      <td>{\"type\": \"Polygon\", \"coordinates\": [[[1.350424...</td>\n",
       "    </tr>\n",
       "    <tr>\n",
       "      <th>95625</th>\n",
       "      <td>95450</td>\n",
       "      <td>US</td>\n",
       "      <td>VAL-D'OISE</td>\n",
       "      <td>ILE-DE-FRANCE</td>\n",
       "      <td>Commune simple</td>\n",
       "      <td>88.0</td>\n",
       "      <td>1096.0</td>\n",
       "      <td>1.3</td>\n",
       "      <td>49.1048076828, 1.95764610139</td>\n",
       "      <td>{\"type\": \"Polygon\", \"coordinates\": [[[1.951176...</td>\n",
       "    </tr>\n",
       "  </tbody>\n",
       "</table>\n",
       "</div>"
      ],
      "text/plain": [
       "           Code Postal Commune          Département                Région  \\\n",
       "Code INSEE                                                                  \n",
       "08434            08390      SY             ARDENNES     CHAMPAGNE-ARDENNE   \n",
       "11131            11260      FA                 AUDE  LANGUEDOC-ROUSSILLON   \n",
       "25104            25440      BY                DOUBS         FRANCHE-COMTE   \n",
       "28064            28410      BU         EURE-ET-LOIR                CENTRE   \n",
       "31404            31110      OO        HAUTE-GARONNE         MIDI-PYRENEES   \n",
       "38289            38114      OZ                ISERE           RHONE-ALPES   \n",
       "51030            51160      AY                MARNE     CHAMPAGNE-ARDENNE   \n",
       "61349            61210      RI                 ORNE       BASSE-NORMANDIE   \n",
       "65458            65400      UZ      HAUTES-PYRENEES         MIDI-PYRENEES   \n",
       "66155            66360      PY  PYRENEES-ORIENTALES  LANGUEDOC-ROUSSILLON   \n",
       "66218            66760      UR  PYRENEES-ORIENTALES  LANGUEDOC-ROUSSILLON   \n",
       "70282            70700      GY          HAUTE-SAONE         FRANCHE-COMTE   \n",
       "76255            76260      EU       SEINE-MARITIME       HAUTE-NORMANDIE   \n",
       "76548            76116      RY       SEINE-MARITIME       HAUTE-NORMANDIE   \n",
       "95625            95450      US           VAL-D'OISE         ILE-DE-FRANCE   \n",
       "\n",
       "                      Statut  Altitude Moyenne  Superficie  Population  \\\n",
       "Code INSEE                                                               \n",
       "08434         Commune simple             208.0       797.0         0.0   \n",
       "11131         Commune simple             385.0      1194.0         0.4   \n",
       "25104         Commune simple             555.0       727.0         0.1   \n",
       "28064         Commune simple             131.0      2308.0         1.8   \n",
       "31404         Commune simple            2044.0      4191.0         0.1   \n",
       "38289         Commune simple            1688.0      2692.0         0.2   \n",
       "51030       Chef-lieu canton             136.0      1062.0         4.1   \n",
       "61349         Commune simple             209.0       745.0         0.2   \n",
       "65458         Commune simple             899.0       246.0         0.0   \n",
       "66155         Commune simple            1772.0      5078.0         0.1   \n",
       "66218         Commune simple            1257.0       676.0         0.4   \n",
       "70282       Chef-lieu canton             260.0      2487.0         1.0   \n",
       "76255       Chef-lieu canton              63.0      1797.0         7.4   \n",
       "76548         Commune simple             117.0       579.0         0.8   \n",
       "95625         Commune simple              88.0      1096.0         1.3   \n",
       "\n",
       "                              geo_point_2d  \\\n",
       "Code INSEE                                   \n",
       "08434         49.5140552485, 4.87192502711   \n",
       "11131         42.9276860891, 2.17956693905   \n",
       "25104         47.0123694644, 5.89880744574   \n",
       "28064         48.8022272101, 1.49327920018   \n",
       "31404        42.7417285924, 0.496415293313   \n",
       "38289         45.1279422675, 6.07379501436   \n",
       "51030          49.0625907596, 3.9973447815   \n",
       "61349         48.788213656, -0.13879185478   \n",
       "65458       42.957459306, -0.0905524703645   \n",
       "66155         42.4733047636, 2.36001969105   \n",
       "66218           42.4618525308, 1.941668494   \n",
       "70282          47.402856646, 5.80618920641   \n",
       "76255         50.0413268784, 1.42861757801   \n",
       "76548         49.4733163015, 1.33609831586   \n",
       "95625         49.1048076828, 1.95764610139   \n",
       "\n",
       "                                                    geo_shape  \n",
       "Code INSEE                                                     \n",
       "08434       {\"type\": \"Polygon\", \"coordinates\": [[[4.869857...  \n",
       "11131       {\"type\": \"Polygon\", \"coordinates\": [[[2.180754...  \n",
       "25104       {\"type\": \"Polygon\", \"coordinates\": [[[5.917329...  \n",
       "28064       {\"type\": \"Polygon\", \"coordinates\": [[[1.500514...  \n",
       "31404       {\"type\": \"Polygon\", \"coordinates\": [[[0.526373...  \n",
       "38289       {\"type\": \"Polygon\", \"coordinates\": [[[6.056071...  \n",
       "51030       {\"type\": \"Polygon\", \"coordinates\": [[[3.992719...  \n",
       "61349       {\"type\": \"Polygon\", \"coordinates\": [[[-0.13939...  \n",
       "65458       {\"type\": \"Polygon\", \"coordinates\": [[[-0.09174...  \n",
       "66155       {\"type\": \"Polygon\", \"coordinates\": [[[2.333441...  \n",
       "66218       {\"type\": \"Polygon\", \"coordinates\": [[[1.942894...  \n",
       "70282       {\"type\": \"Polygon\", \"coordinates\": [[[5.795696...  \n",
       "76255       {\"type\": \"Polygon\", \"coordinates\": [[[1.473321...  \n",
       "76548       {\"type\": \"Polygon\", \"coordinates\": [[[1.350424...  \n",
       "95625       {\"type\": \"Polygon\", \"coordinates\": [[[1.951176...  "
      ]
     },
     "execution_count": 44,
     "metadata": {},
     "output_type": "execute_result"
    }
   ],
   "source": [
    "# Combien y a-t-il de communes dont le nom comporte 2 lettres?\n",
    "geo.loc[geo[\"Commune\"].str.len()==2]"
   ]
  },
  {
   "cell_type": "code",
   "execution_count": 46,
   "metadata": {
    "collapsed": true
   },
   "outputs": [
    {
     "data": {
      "text/plain": [
       "['AY',\n",
       " 'BU',\n",
       " 'BY',\n",
       " 'EU',\n",
       " 'FA',\n",
       " 'GY',\n",
       " 'OO',\n",
       " 'OZ',\n",
       " 'PY',\n",
       " 'RI',\n",
       " 'RY',\n",
       " 'SY',\n",
       " 'UR',\n",
       " 'US',\n",
       " 'UZ']"
      ]
     },
     "execution_count": 46,
     "metadata": {},
     "output_type": "execute_result"
    }
   ],
   "source": [
    "#Donnez la liste de ces communes dans l'ordre alphabétique\n",
    "sorted(geo.loc[geo[\"Commune\"].str.len()==2,'Commune'].values)"
   ]
  },
  {
   "cell_type": "code",
   "execution_count": 47,
   "metadata": {
    "collapsed": true
   },
   "outputs": [
    {
     "data": {
      "text/html": [
       "<div>\n",
       "<style scoped>\n",
       "    .dataframe tbody tr th:only-of-type {\n",
       "        vertical-align: middle;\n",
       "    }\n",
       "\n",
       "    .dataframe tbody tr th {\n",
       "        vertical-align: top;\n",
       "    }\n",
       "\n",
       "    .dataframe thead th {\n",
       "        text-align: right;\n",
       "    }\n",
       "</style>\n",
       "<table border=\"1\" class=\"dataframe\">\n",
       "  <thead>\n",
       "    <tr style=\"text-align: right;\">\n",
       "      <th></th>\n",
       "      <th>Code Postal</th>\n",
       "      <th>Commune</th>\n",
       "      <th>Département</th>\n",
       "      <th>Région</th>\n",
       "      <th>Statut</th>\n",
       "      <th>Altitude Moyenne</th>\n",
       "      <th>Superficie</th>\n",
       "      <th>Population</th>\n",
       "      <th>geo_point_2d</th>\n",
       "      <th>geo_shape</th>\n",
       "    </tr>\n",
       "    <tr>\n",
       "      <th>Code INSEE</th>\n",
       "      <th></th>\n",
       "      <th></th>\n",
       "      <th></th>\n",
       "      <th></th>\n",
       "      <th></th>\n",
       "      <th></th>\n",
       "      <th></th>\n",
       "      <th></th>\n",
       "      <th></th>\n",
       "      <th></th>\n",
       "    </tr>\n",
       "  </thead>\n",
       "  <tbody>\n",
       "    <tr>\n",
       "      <th>06026</th>\n",
       "      <td>06530</td>\n",
       "      <td>CABRIS</td>\n",
       "      <td>ALPES-MARITIMES</td>\n",
       "      <td>PROVENCE-ALPES-COTE D'AZUR</td>\n",
       "      <td>Commune simple</td>\n",
       "      <td>540.0</td>\n",
       "      <td>540.0</td>\n",
       "      <td>1.4</td>\n",
       "      <td>43.6599560638, 6.87825509814</td>\n",
       "      <td>{\"type\": \"Polygon\", \"coordinates\": [[[6.868991...</td>\n",
       "    </tr>\n",
       "    <tr>\n",
       "      <th>21010</th>\n",
       "      <td>21420</td>\n",
       "      <td>ALOXE-CORTON</td>\n",
       "      <td>COTE-D'OR</td>\n",
       "      <td>BOURGOGNE</td>\n",
       "      <td>Commune simple</td>\n",
       "      <td>261.0</td>\n",
       "      <td>261.0</td>\n",
       "      <td>0.2</td>\n",
       "      <td>47.0682393129, 4.86123205088</td>\n",
       "      <td>{\"type\": \"Polygon\", \"coordinates\": [[[4.866669...</td>\n",
       "    </tr>\n",
       "    <tr>\n",
       "      <th>25391</th>\n",
       "      <td>25210</td>\n",
       "      <td>MONT-DE-LAVAL</td>\n",
       "      <td>DOUBS</td>\n",
       "      <td>FRANCHE-COMTE</td>\n",
       "      <td>Commune simple</td>\n",
       "      <td>845.0</td>\n",
       "      <td>845.0</td>\n",
       "      <td>0.2</td>\n",
       "      <td>47.161609954, 6.63636805448</td>\n",
       "      <td>{\"type\": \"Polygon\", \"coordinates\": [[[6.627720...</td>\n",
       "    </tr>\n",
       "    <tr>\n",
       "      <th>38230</th>\n",
       "      <td>38300</td>\n",
       "      <td>MEYRIE</td>\n",
       "      <td>ISERE</td>\n",
       "      <td>RHONE-ALPES</td>\n",
       "      <td>Commune simple</td>\n",
       "      <td>346.0</td>\n",
       "      <td>346.0</td>\n",
       "      <td>1.0</td>\n",
       "      <td>45.5602461635, 5.2848381306</td>\n",
       "      <td>{\"type\": \"Polygon\", \"coordinates\": [[[5.293302...</td>\n",
       "    </tr>\n",
       "    <tr>\n",
       "      <th>65102</th>\n",
       "      <td>65140</td>\n",
       "      <td>BOUILH-DEVANT</td>\n",
       "      <td>HAUTES-PYRENEES</td>\n",
       "      <td>MIDI-PYRENEES</td>\n",
       "      <td>Commune simple</td>\n",
       "      <td>298.0</td>\n",
       "      <td>298.0</td>\n",
       "      <td>0.0</td>\n",
       "      <td>43.3365484114, 0.261492915975</td>\n",
       "      <td>{\"type\": \"Polygon\", \"coordinates\": [[[0.267934...</td>\n",
       "    </tr>\n",
       "    <tr>\n",
       "      <th>68211</th>\n",
       "      <td>68470</td>\n",
       "      <td>MITZACH</td>\n",
       "      <td>HAUT-RHIN</td>\n",
       "      <td>ALSACE</td>\n",
       "      <td>Commune simple</td>\n",
       "      <td>637.0</td>\n",
       "      <td>637.0</td>\n",
       "      <td>0.4</td>\n",
       "      <td>47.8611986942, 6.99775039385</td>\n",
       "      <td>{\"type\": \"Polygon\", \"coordinates\": [[[6.987666...</td>\n",
       "    </tr>\n",
       "    <tr>\n",
       "      <th>88215</th>\n",
       "      <td>88210</td>\n",
       "      <td>GRANDRUPT</td>\n",
       "      <td>VOSGES</td>\n",
       "      <td>LORRAINE</td>\n",
       "      <td>Commune simple</td>\n",
       "      <td>634.0</td>\n",
       "      <td>634.0</td>\n",
       "      <td>0.1</td>\n",
       "      <td>48.3669519771, 7.06206760711</td>\n",
       "      <td>{\"type\": \"Polygon\", \"coordinates\": [[[7.064913...</td>\n",
       "    </tr>\n",
       "  </tbody>\n",
       "</table>\n",
       "</div>"
      ],
      "text/plain": [
       "           Code Postal        Commune      Département  \\\n",
       "Code INSEE                                               \n",
       "06026            06530         CABRIS  ALPES-MARITIMES   \n",
       "21010            21420   ALOXE-CORTON        COTE-D'OR   \n",
       "25391            25210  MONT-DE-LAVAL            DOUBS   \n",
       "38230            38300         MEYRIE            ISERE   \n",
       "65102            65140  BOUILH-DEVANT  HAUTES-PYRENEES   \n",
       "68211            68470        MITZACH        HAUT-RHIN   \n",
       "88215            88210      GRANDRUPT           VOSGES   \n",
       "\n",
       "                                Région          Statut  Altitude Moyenne  \\\n",
       "Code INSEE                                                                 \n",
       "06026       PROVENCE-ALPES-COTE D'AZUR  Commune simple             540.0   \n",
       "21010                        BOURGOGNE  Commune simple             261.0   \n",
       "25391                    FRANCHE-COMTE  Commune simple             845.0   \n",
       "38230                      RHONE-ALPES  Commune simple             346.0   \n",
       "65102                    MIDI-PYRENEES  Commune simple             298.0   \n",
       "68211                           ALSACE  Commune simple             637.0   \n",
       "88215                         LORRAINE  Commune simple             634.0   \n",
       "\n",
       "            Superficie  Population                   geo_point_2d  \\\n",
       "Code INSEE                                                          \n",
       "06026            540.0         1.4   43.6599560638, 6.87825509814   \n",
       "21010            261.0         0.2   47.0682393129, 4.86123205088   \n",
       "25391            845.0         0.2    47.161609954, 6.63636805448   \n",
       "38230            346.0         1.0    45.5602461635, 5.2848381306   \n",
       "65102            298.0         0.0  43.3365484114, 0.261492915975   \n",
       "68211            637.0         0.4   47.8611986942, 6.99775039385   \n",
       "88215            634.0         0.1   48.3669519771, 7.06206760711   \n",
       "\n",
       "                                                    geo_shape  \n",
       "Code INSEE                                                     \n",
       "06026       {\"type\": \"Polygon\", \"coordinates\": [[[6.868991...  \n",
       "21010       {\"type\": \"Polygon\", \"coordinates\": [[[4.866669...  \n",
       "25391       {\"type\": \"Polygon\", \"coordinates\": [[[6.627720...  \n",
       "38230       {\"type\": \"Polygon\", \"coordinates\": [[[5.293302...  \n",
       "65102       {\"type\": \"Polygon\", \"coordinates\": [[[0.267934...  \n",
       "68211       {\"type\": \"Polygon\", \"coordinates\": [[[6.987666...  \n",
       "88215       {\"type\": \"Polygon\", \"coordinates\": [[[7.064913...  "
      ]
     },
     "execution_count": 47,
     "metadata": {},
     "output_type": "execute_result"
    }
   ],
   "source": [
    "# Sélectionnez les communes pour lesquelles l'atitude moyenne vaut la superficie.\n",
    "geo.loc[geo['Altitude Moyenne']==geo['Superficie']]"
   ]
  },
  {
   "cell_type": "code",
   "execution_count": 48,
   "metadata": {
    "collapsed": true
   },
   "outputs": [
    {
     "data": {
      "text/plain": [
       "3.3"
      ]
     },
     "execution_count": 48,
     "metadata": {},
     "output_type": "execute_result"
    }
   ],
   "source": [
    "# Quelle est la population totale de ces communes ?\n",
    "geo.loc[geo['Altitude Moyenne']==geo['Superficie'], 'Population'].sum()"
   ]
  },
  {
   "cell_type": "code",
   "execution_count": 49,
   "metadata": {},
   "outputs": [
    {
     "data": {
      "text/plain": [
       "True"
      ]
     },
     "execution_count": 49,
     "metadata": {},
     "output_type": "execute_result"
    }
   ],
   "source": [
    "# Y a t-il des communes au niveau de la mer \n",
    "(geo['Altitude Moyenne']==0).any()"
   ]
  },
  {
   "cell_type": "markdown",
   "metadata": {},
   "source": [
    "### Index non unique"
   ]
  },
  {
   "cell_type": "code",
   "execution_count": null,
   "metadata": {},
   "outputs": [],
   "source": [
    "# test de l'unicité de l'index\n",
    "geo.index.is_unique"
   ]
  },
  {
   "cell_type": "code",
   "execution_count": null,
   "metadata": {},
   "outputs": [],
   "source": [
    "# reset de l'index\n",
    "geo = geo.reset_index()\n",
    "geo = geo.set_index('Commune', drop=True)\n",
    "geo.head()"
   ]
  },
  {
   "cell_type": "code",
   "execution_count": null,
   "metadata": {},
   "outputs": [],
   "source": [
    "# test de l'unicité de l'index\n",
    "geo.index.is_unique"
   ]
  },
  {
   "cell_type": "code",
   "execution_count": null,
   "metadata": {},
   "outputs": [],
   "source": [
    "# accès avec un index non unique\n",
    "geo.loc['SAINTE-COLOMBE']"
   ]
  },
  {
   "cell_type": "code",
   "execution_count": null,
   "metadata": {},
   "outputs": [],
   "source": [
    "# tête\n",
    "geo.head()"
   ]
  },
  {
   "cell_type": "code",
   "execution_count": null,
   "metadata": {},
   "outputs": [],
   "source": [
    "# tentative d'accès à une plage d'index\n",
    "geo.loc[\"L'ABERGEMENT-CLEMENCIAT\":\"SAINTE-COLOMBE\"]"
   ]
  },
  {
   "cell_type": "markdown",
   "metadata": {},
   "source": [
    "## Manipulations et modifications des données"
   ]
  },
  {
   "cell_type": "code",
   "execution_count": null,
   "metadata": {
    "scrolled": false
   },
   "outputs": [],
   "source": [
    "# chargement des données\n",
    "geo = pd.read_csv(\"correspondance-code-insee-code-postal.csv\",\n",
    "                   sep=';',\n",
    "                   usecols=range(11),\n",
    "                   index_col=\"Code INSEE\")\n",
    "geo.head()"
   ]
  },
  {
   "cell_type": "markdown",
   "metadata": {},
   "source": [
    "### Tri"
   ]
  },
  {
   "cell_type": "code",
   "execution_count": null,
   "metadata": {
    "scrolled": false
   },
   "outputs": [],
   "source": [
    "# tri selon l'altitude\n",
    "geo.sort_values(\"Altitude Moyenne\").head()"
   ]
  },
  {
   "cell_type": "code",
   "execution_count": null,
   "metadata": {
    "scrolled": false
   },
   "outputs": [],
   "source": [
    "# tri selon l'altitude inverse\n",
    "geo.sort_values(\"Altitude Moyenne\", ascending=False).head()"
   ]
  },
  {
   "cell_type": "code",
   "execution_count": null,
   "metadata": {
    "scrolled": false
   },
   "outputs": [],
   "source": [
    "# tri selon l'altitude puis suivant le nom de la commune A->Z\n",
    "geo.sort_values([\"Altitude Moyenne\", \"Commune\"]).head()"
   ]
  },
  {
   "cell_type": "code",
   "execution_count": null,
   "metadata": {
    "scrolled": false
   },
   "outputs": [],
   "source": [
    "# tri selon l'altitude puis suivant le nom de la commune Z->A\n",
    "geo.sort_values([\"Altitude Moyenne\", \"Commune\"], ascending=[True, False]).head()"
   ]
  },
  {
   "cell_type": "code",
   "execution_count": null,
   "metadata": {
    "scrolled": false
   },
   "outputs": [],
   "source": [
    "# tri selon l'index\n",
    "geo = geo.sort_index()\n",
    "geo.head()"
   ]
  },
  {
   "cell_type": "markdown",
   "metadata": {},
   "source": [
    "### Modification de colonnes et conversions"
   ]
  },
  {
   "cell_type": "code",
   "execution_count": null,
   "metadata": {
    "scrolled": false
   },
   "outputs": [],
   "source": [
    "# la superficie des communes est en hectares, on la passe en km2\n",
    "geo[\"Superficie\"] = geo[\"Superficie\"] / 100.0  # ou bien geo[\"Superficie\"] =/ 100.0\n",
    "geo.head()"
   ]
  },
  {
   "cell_type": "code",
   "execution_count": null,
   "metadata": {
    "scrolled": false
   },
   "outputs": [],
   "source": [
    "# exemple de conversion\n",
    "geo[\"Altitude Moyenne\"] = geo[\"Altitude Moyenne\"].astype(int)\n",
    "geo.head()"
   ]
  },
  {
   "cell_type": "code",
   "execution_count": null,
   "metadata": {
    "scrolled": false
   },
   "outputs": [],
   "source": [
    "# info\n",
    "geo.info()"
   ]
  },
  {
   "cell_type": "code",
   "execution_count": null,
   "metadata": {
    "scrolled": false
   },
   "outputs": [],
   "source": [
    "# conversion de la colonne Statut en catégorie\n",
    "# Intérêt : \n",
    "from pandas.api.types import CategoricalDtype\n",
    "\n",
    "statuts = [\"Commune simple\", \"Chef-lieu canton\", \"Sous-préfecture\",\n",
    "            \"Préfecture\", \"Préfecture de région\", \"Capitale d'état\"]\n",
    "\n",
    "cat_statut = CategoricalDtype(categories=statuts, ordered=True)\n",
    "\n",
    "geo[\"Statut\"] = geo[\"Statut\"].astype(cat_statut)\n",
    "\n",
    "geo.info()"
   ]
  },
  {
   "cell_type": "markdown",
   "metadata": {},
   "source": [
    "### Ajout de colonnes"
   ]
  },
  {
   "cell_type": "code",
   "execution_count": null,
   "metadata": {
    "scrolled": false
   },
   "outputs": [],
   "source": [
    "# on ajoute la colonne \"Densité\"\n",
    "geo[\"Densité\"] = 1000 * geo[\"Population\"] / geo[\"Superficie\"]\n",
    "geo.head()"
   ]
  },
  {
   "cell_type": "markdown",
   "metadata": {},
   "source": [
    "### Extraction d'informations"
   ]
  },
  {
   "cell_type": "code",
   "execution_count": null,
   "metadata": {},
   "outputs": [],
   "source": [
    "# reset de l'index\n",
    "geo = geo.reset_index()\n",
    "geo = geo.set_index('Code INSEE', drop=True)\n",
    "geo.head()"
   ]
  },
  {
   "cell_type": "code",
   "execution_count": null,
   "metadata": {},
   "outputs": [],
   "source": [
    "# colonne \"geo_point_2d\"\n",
    "geo[\"geo_point_2d\"]"
   ]
  },
  {
   "cell_type": "code",
   "execution_count": null,
   "metadata": {},
   "outputs": [],
   "source": [
    "# accès à une valeur \"geo_point_2d\"\n",
    "geo.loc[\"01001\", \"geo_point_2d\"]"
   ]
  },
  {
   "cell_type": "code",
   "execution_count": 50,
   "metadata": {
    "scrolled": false
   },
   "outputs": [
    {
     "data": {
      "text/plain": [
       "['46.1534255214', '4.92611354223']"
      ]
     },
     "execution_count": 50,
     "metadata": {},
     "output_type": "execute_result"
    }
   ],
   "source": [
    "# application de la méthode split()\n",
    "x = geo.loc[\"01001\", \"geo_point_2d\"].split(', ')\n",
    "x"
   ]
  },
  {
   "cell_type": "code",
   "execution_count": null,
   "metadata": {
    "scrolled": false
   },
   "outputs": [],
   "source": [
    "# extraction de la latitude, indice 0 dans la liste retournée par *split()*\n",
    "x[0]  # on obtient une chaîne de caractères"
   ]
  },
  {
   "cell_type": "code",
   "execution_count": null,
   "metadata": {
    "scrolled": false
   },
   "outputs": [],
   "source": [
    "float(x[0])  # on obtient enfin un nombre flottant représentant la latitude avec le convertisseur float()"
   ]
  },
  {
   "cell_type": "code",
   "execution_count": null,
   "metadata": {
    "scrolled": false
   },
   "outputs": [],
   "source": [
    "# on calcule  la latitude et la longitude et on ajoute les colones\n",
    "geo[\"Latitude\"] = geo[\"geo_point_2d\"].apply(lambda x: float(x.split(', ')[0]))\n",
    "geo[\"Longitude\"] = geo[\"geo_point_2d\"].apply(lambda x: float(x.split(', ')[1]))\n",
    "geo.head()"
   ]
  },
  {
   "cell_type": "code",
   "execution_count": null,
   "metadata": {
    "scrolled": false
   },
   "outputs": [],
   "source": [
    "# on vérifie le type des colonne ajoutées\n",
    "geo.info()"
   ]
  },
  {
   "cell_type": "code",
   "execution_count": 52,
   "metadata": {},
   "outputs": [
    {
     "data": {
      "text/html": [
       "<div>\n",
       "<style scoped>\n",
       "    .dataframe tbody tr th:only-of-type {\n",
       "        vertical-align: middle;\n",
       "    }\n",
       "\n",
       "    .dataframe tbody tr th {\n",
       "        vertical-align: top;\n",
       "    }\n",
       "\n",
       "    .dataframe thead th {\n",
       "        text-align: right;\n",
       "    }\n",
       "</style>\n",
       "<table border=\"1\" class=\"dataframe\">\n",
       "  <thead>\n",
       "    <tr style=\"text-align: right;\">\n",
       "      <th></th>\n",
       "      <th>0</th>\n",
       "      <th>1</th>\n",
       "    </tr>\n",
       "    <tr>\n",
       "      <th>Code INSEE</th>\n",
       "      <th></th>\n",
       "      <th></th>\n",
       "    </tr>\n",
       "  </thead>\n",
       "  <tbody>\n",
       "    <tr>\n",
       "      <th>01001</th>\n",
       "      <td>46.1534255214</td>\n",
       "      <td>4.92611354223</td>\n",
       "    </tr>\n",
       "    <tr>\n",
       "      <th>01002</th>\n",
       "      <td>46.0091878776</td>\n",
       "      <td>5.42801696363</td>\n",
       "    </tr>\n",
       "    <tr>\n",
       "      <th>01004</th>\n",
       "      <td>45.9608475114</td>\n",
       "      <td>5.3729257777</td>\n",
       "    </tr>\n",
       "    <tr>\n",
       "      <th>01005</th>\n",
       "      <td>45.9961799872</td>\n",
       "      <td>4.91227250796</td>\n",
       "    </tr>\n",
       "    <tr>\n",
       "      <th>01006</th>\n",
       "      <td>45.7494989044</td>\n",
       "      <td>5.59432017366</td>\n",
       "    </tr>\n",
       "    <tr>\n",
       "      <th>01007</th>\n",
       "      <td>46.0055913782</td>\n",
       "      <td>5.35760660735</td>\n",
       "    </tr>\n",
       "    <tr>\n",
       "      <th>01008</th>\n",
       "      <td>45.9367134524</td>\n",
       "      <td>5.3328092349</td>\n",
       "    </tr>\n",
       "    <tr>\n",
       "      <th>01009</th>\n",
       "      <td>45.7873565333</td>\n",
       "      <td>5.65788307924</td>\n",
       "    </tr>\n",
       "    <tr>\n",
       "      <th>...</th>\n",
       "      <td>...</td>\n",
       "      <td>...</td>\n",
       "    </tr>\n",
       "    <tr>\n",
       "      <th>97610</th>\n",
       "      <td>-12.7465604467</td>\n",
       "      <td>45.1869991913</td>\n",
       "    </tr>\n",
       "    <tr>\n",
       "      <th>97611</th>\n",
       "      <td>-12.7899979586</td>\n",
       "      <td>45.1932456026</td>\n",
       "    </tr>\n",
       "    <tr>\n",
       "      <th>97612</th>\n",
       "      <td>-12.6875073612</td>\n",
       "      <td>45.0736802335</td>\n",
       "    </tr>\n",
       "    <tr>\n",
       "      <th>97613</th>\n",
       "      <td>-12.7513099309</td>\n",
       "      <td>45.0871696871</td>\n",
       "    </tr>\n",
       "    <tr>\n",
       "      <th>97614</th>\n",
       "      <td>-12.8370955196</td>\n",
       "      <td>45.1379095497</td>\n",
       "    </tr>\n",
       "    <tr>\n",
       "      <th>97615</th>\n",
       "      <td>-12.7961353309</td>\n",
       "      <td>45.2842063102</td>\n",
       "    </tr>\n",
       "    <tr>\n",
       "      <th>97616</th>\n",
       "      <td>-12.8611649609</td>\n",
       "      <td>45.1185503145</td>\n",
       "    </tr>\n",
       "    <tr>\n",
       "      <th>97617</th>\n",
       "      <td>-12.7821666736</td>\n",
       "      <td>45.1344279083</td>\n",
       "    </tr>\n",
       "  </tbody>\n",
       "</table>\n",
       "<p>36742 rows × 2 columns</p>\n",
       "</div>"
      ],
      "text/plain": [
       "                         0              1\n",
       "Code INSEE                               \n",
       "01001        46.1534255214  4.92611354223\n",
       "01002        46.0091878776  5.42801696363\n",
       "01004        45.9608475114   5.3729257777\n",
       "01005        45.9961799872  4.91227250796\n",
       "01006        45.7494989044  5.59432017366\n",
       "01007        46.0055913782  5.35760660735\n",
       "01008        45.9367134524   5.3328092349\n",
       "01009        45.7873565333  5.65788307924\n",
       "...                    ...            ...\n",
       "97610       -12.7465604467  45.1869991913\n",
       "97611       -12.7899979586  45.1932456026\n",
       "97612       -12.6875073612  45.0736802335\n",
       "97613       -12.7513099309  45.0871696871\n",
       "97614       -12.8370955196  45.1379095497\n",
       "97615       -12.7961353309  45.2842063102\n",
       "97616       -12.8611649609  45.1185503145\n",
       "97617       -12.7821666736  45.1344279083\n",
       "\n",
       "[36742 rows x 2 columns]"
      ]
     },
     "execution_count": 52,
     "metadata": {},
     "output_type": "execute_result"
    }
   ],
   "source": [
    "# méthode extract\n",
    "geo[\"geo_point_2d\"].str.extract(\"(.*), (.*)\")"
   ]
  },
  {
   "cell_type": "code",
   "execution_count": null,
   "metadata": {},
   "outputs": [],
   "source": [
    "# méthode extract\n",
    "geo[['Latitude', 'Longitude']] = geo[\"geo_point_2d\"].str.extract(\"(.*), (.*)\").astype(float)\n",
    "geo.head()"
   ]
  },
  {
   "cell_type": "markdown",
   "metadata": {},
   "source": [
    "**Exercice**\n",
    "\n",
    "- Ajoutez une colonne 'CP Ville' avec le Code postal + un espace + et le nom de la Ville.\n",
    "- Ecrivez une fonction qui détermine la commune la plus proche d'un point à partir de sa latitude et sa longitude.\n",
    "- Ajoutez une fonction de conversion pour pouvoir utiliser la première fonction avec un GPS (degrés, minutes, secondes)."
   ]
  },
  {
   "cell_type": "code",
   "execution_count": null,
   "metadata": {},
   "outputs": [],
   "source": []
  },
  {
   "cell_type": "code",
   "execution_count": null,
   "metadata": {
    "scrolled": false
   },
   "outputs": [],
   "source": [
    "# fonction recherche de ville\n",
    "def ville(lat, long):\n",
    "    pass"
   ]
  },
  {
   "cell_type": "code",
   "execution_count": null,
   "metadata": {
    "scrolled": false
   },
   "outputs": [],
   "source": [
    "# on applique la fonction à une coordonnée tirée au hasard\n",
    "np.random.seed(0)\n",
    "a, b = 41.5, 51.1  # latitude min et max de la France métropolitaine\n",
    "lat = (b - a) * np.random.random() + a\n",
    "a, b = -5.1, 9.5  # longitude min et max de la France métropolitaine\n",
    "long = (b - a) * np.random.random() + a\n",
    "\n",
    "ville(lat, long)"
   ]
  },
  {
   "cell_type": "code",
   "execution_count": null,
   "metadata": {
    "scrolled": false
   },
   "outputs": [],
   "source": [
    "# conversion degrés, minutes, secondes => décimal\n",
    "def dms2dec(deg, mn, sec):\n",
    "    pass"
   ]
  },
  {
   "cell_type": "code",
   "execution_count": null,
   "metadata": {
    "scrolled": false
   },
   "outputs": [],
   "source": [
    "# à partir de coordonnées GPS précises\n",
    "ville(dms2dec(48, 42, 52), dms2dec(2, 14, 45))"
   ]
  },
  {
   "cell_type": "markdown",
   "metadata": {},
   "source": [
    "**Projet maison**\n",
    "\n",
    "La colonne \"geo_shape\" comporte des chaines de catactères au format JSON. Elles représentent les formes géométriques des communes qui sont soit des polygones soit composées de plusieurs polygones.\n",
    "\n",
    "- Utiliser la librairie Python json pour parser la colonne \"geo_shape\".\n",
    "- Donner le décompte des valeurs accédées avec la clé \"type\".\n",
    "- Donner le décompte des longueurs des listes accédées avec la clé \"coordinates\".\n",
    "- Quelle commune est la plus complexe géométriquement ?\n",
    "- Quelle commune est la seconde la plus complexe géométriquement ?\n",
    "- Quelles sont les villes qui sont de type \"Polygon\" mais dont la longueur des listes accédées avec la clé \"coordinates\" vaut 2 ?\n",
    "- Pour ces villes vérifier que le premier polygone contient bien le second (enclave). NB : installer la librairie shapely, utiliser la classe Polygon de shapely.geometry. Sur Windows shapely peut nécessiter d'installer la dll \"geos_c.dll\" dans le répertoire \"Library/bin\" de votre environnement Python."
   ]
  }
 ],
 "metadata": {
  "anaconda-cloud": {},
  "kernelspec": {
   "display_name": "Python [conda env:ML3] *",
   "language": "python",
   "name": "conda-env-ML3-py"
  },
  "language_info": {
   "codemirror_mode": {
    "name": "ipython",
    "version": 3
   },
   "file_extension": ".py",
   "mimetype": "text/x-python",
   "name": "python",
   "nbconvert_exporter": "python",
   "pygments_lexer": "ipython3",
   "version": "3.7.4"
  }
 },
 "nbformat": 4,
 "nbformat_minor": 1
}
